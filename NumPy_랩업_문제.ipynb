{
 "cells": [
  {
   "cell_type": "markdown",
   "id": "8daffe6a",
   "metadata": {},
   "source": [
    "## 1단계 문제"
   ]
  },
  {
   "cell_type": "code",
   "execution_count": 3,
   "id": "7b6f0dad",
   "metadata": {},
   "outputs": [],
   "source": [
    "import numpy as np"
   ]
  },
  {
   "cell_type": "markdown",
   "id": "ff6a711e",
   "metadata": {},
   "source": [
    "1. 크기가 10인 null 벡터를 만드세요. (힌트: np.zeros())"
   ]
  },
  {
   "cell_type": "code",
   "execution_count": 3,
   "id": "e3ea301f",
   "metadata": {},
   "outputs": [
    {
     "data": {
      "text/plain": [
       "array([0., 0., 0., 0., 0., 0., 0., 0., 0., 0.])"
      ]
     },
     "execution_count": 3,
     "metadata": {},
     "output_type": "execute_result"
    }
   ],
   "source": [
    "np.zeros(10)"
   ]
  },
  {
   "cell_type": "markdown",
   "id": "535cc09b",
   "metadata": {},
   "source": [
    "2. numpy 버전과 설정을 출력하세요. (힌트: np.__version__, np.show_config())"
   ]
  },
  {
   "cell_type": "code",
   "execution_count": 5,
   "id": "e63c9505",
   "metadata": {},
   "outputs": [
    {
     "data": {
      "text/plain": [
       "'2.3.0'"
      ]
     },
     "execution_count": 5,
     "metadata": {},
     "output_type": "execute_result"
    }
   ],
   "source": [
    "np.__version__"
   ]
  },
  {
   "cell_type": "code",
   "execution_count": 7,
   "id": "69ddd453",
   "metadata": {},
   "outputs": [],
   "source": [
    "# np.show_config()"
   ]
  },
  {
   "cell_type": "markdown",
   "id": "38c92992",
   "metadata": {},
   "source": [
    "3. 값이 10에서 49까지인 벡터를 만드세요. (힌트: np.arange(10, 50))"
   ]
  },
  {
   "cell_type": "code",
   "execution_count": 10,
   "id": "ed8f12c3",
   "metadata": {},
   "outputs": [
    {
     "data": {
      "text/plain": [
       "array([10, 11, 12, 13, 14, 15, 16, 17, 18, 19, 20, 21, 22, 23, 24, 25, 26,\n",
       "       27, 28, 29, 30, 31, 32, 33, 34, 35, 36, 37, 38, 39, 40, 41, 42, 43,\n",
       "       44, 45, 46, 47, 48, 49])"
      ]
     },
     "execution_count": 10,
     "metadata": {},
     "output_type": "execute_result"
    }
   ],
   "source": [
    "arr = np.arange(10, 50)\n",
    "arr"
   ]
  },
  {
   "cell_type": "markdown",
   "id": "4b3a1a01",
   "metadata": {},
   "source": [
    "4. 벡터를 역순으로 만드세요 (첫 번째 요소가 마지막이 됩니다). (힌트: 배열을 뒤집기 위해 [::-1])"
   ]
  },
  {
   "cell_type": "code",
   "execution_count": 11,
   "id": "98c53370",
   "metadata": {},
   "outputs": [
    {
     "data": {
      "text/plain": [
       "array([49, 48, 47, 46, 45, 44, 43, 42, 41, 40, 39, 38, 37, 36, 35, 34, 33,\n",
       "       32, 31, 30, 29, 28, 27, 26, 25, 24, 23, 22, 21, 20, 19, 18, 17, 16,\n",
       "       15, 14, 13, 12, 11, 10])"
      ]
     },
     "execution_count": 11,
     "metadata": {},
     "output_type": "execute_result"
    }
   ],
   "source": [
    "arr[::-1]"
   ]
  },
  {
   "cell_type": "markdown",
   "id": "c5db1f98",
   "metadata": {},
   "source": [
    "5. 크기가 3x3이고 0에서 8까지의 값을 갖는 행렬을 만드세요. (힌트: np.arange()와 reshape())"
   ]
  },
  {
   "cell_type": "code",
   "execution_count": 12,
   "id": "41d2d999",
   "metadata": {},
   "outputs": [
    {
     "data": {
      "text/plain": [
       "array([[0, 1, 2],\n",
       "       [3, 4, 5],\n",
       "       [6, 7, 8]])"
      ]
     },
     "execution_count": 12,
     "metadata": {},
     "output_type": "execute_result"
    }
   ],
   "source": [
    "np.arange(9).reshape(3, 3)"
   ]
  },
  {
   "cell_type": "markdown",
   "id": "aa162436",
   "metadata": {},
   "source": [
    "## 2단계 문제"
   ]
  },
  {
   "cell_type": "markdown",
   "id": "b1742c04",
   "metadata": {},
   "source": [
    "1. 1D 배열을 3x3 행렬로 변환하세요. (힌트: reshape())"
   ]
  },
  {
   "cell_type": "code",
   "execution_count": 13,
   "id": "92bc3280",
   "metadata": {},
   "outputs": [
    {
     "data": {
      "text/plain": [
       "array([[0, 1, 2],\n",
       "       [3, 4, 5],\n",
       "       [6, 7, 8]])"
      ]
     },
     "execution_count": 13,
     "metadata": {},
     "output_type": "execute_result"
    }
   ],
   "source": [
    "arr1 = np.arange(9)\n",
    "arr1.reshape(3, 3)"
   ]
  },
  {
   "cell_type": "markdown",
   "id": "74596247",
   "metadata": {},
   "source": [
    "2. 0에서 1 사이의 랜덤한 값으로 채워진 3x3 배열을 만드세요. (힌트: np.random.random())"
   ]
  },
  {
   "cell_type": "code",
   "execution_count": 21,
   "id": "4e22410f",
   "metadata": {},
   "outputs": [
    {
     "data": {
      "text/plain": [
       "array([[0.47006846, 0.51225737, 0.92121248],\n",
       "       [0.54710763, 0.14062232, 0.75330664],\n",
       "       [0.90062229, 0.19654729, 0.8776547 ]])"
      ]
     },
     "execution_count": 21,
     "metadata": {},
     "output_type": "execute_result"
    }
   ],
   "source": [
    "np.random.random((3, 3))"
   ]
  },
  {
   "cell_type": "markdown",
   "id": "65c4ab8c",
   "metadata": {},
   "source": [
    "3. 5x5 단위 행렬을 만드세요. (힌트: np.eye(5))"
   ]
  },
  {
   "cell_type": "code",
   "execution_count": 18,
   "id": "e8693264",
   "metadata": {},
   "outputs": [
    {
     "data": {
      "text/plain": [
       "array([[1., 0., 0., 0., 0.],\n",
       "       [0., 1., 0., 0., 0.],\n",
       "       [0., 0., 1., 0., 0.],\n",
       "       [0., 0., 0., 1., 0.],\n",
       "       [0., 0., 0., 0., 1.]])"
      ]
     },
     "execution_count": 18,
     "metadata": {},
     "output_type": "execute_result"
    }
   ],
   "source": [
    "np.eye(5)"
   ]
  },
  {
   "cell_type": "markdown",
   "id": "716a7348",
   "metadata": {},
   "source": [
    "4. 임의의 1D 배열에서 가장 큰 값의 인덱스를 찾으세요. (힌트: np.argmax())"
   ]
  },
  {
   "cell_type": "code",
   "execution_count": 72,
   "id": "cba05ad6",
   "metadata": {},
   "outputs": [
    {
     "data": {
      "text/plain": [
       "array([ 7,  6, 18, 17, 12], dtype=int32)"
      ]
     },
     "execution_count": 72,
     "metadata": {},
     "output_type": "execute_result"
    }
   ],
   "source": [
    "arr2 = np.random.choice(20, size=5, replace=False)\n",
    "arr2"
   ]
  },
  {
   "cell_type": "code",
   "execution_count": 73,
   "id": "c64d1c66",
   "metadata": {},
   "outputs": [
    {
     "data": {
      "text/plain": [
       "np.int64(2)"
      ]
     },
     "execution_count": 73,
     "metadata": {},
     "output_type": "execute_result"
    }
   ],
   "source": [
    "np.argmax(arr2)"
   ]
  },
  {
   "cell_type": "markdown",
   "id": "6548d81c",
   "metadata": {},
   "source": [
    "5. 크기가 10인 배열을 생성하고, 3에서 8까지의 값을 0으로 바꾸세요. (힌트: 슬라이싱과 배열 인덱싱)"
   ]
  },
  {
   "cell_type": "code",
   "execution_count": 26,
   "id": "73b663d2",
   "metadata": {},
   "outputs": [
    {
     "data": {
      "text/plain": [
       "array([0, 1, 2, 0, 0, 0, 0, 0, 0, 9])"
      ]
     },
     "execution_count": 26,
     "metadata": {},
     "output_type": "execute_result"
    }
   ],
   "source": [
    "arr3 = np.arange(10)\n",
    "arr3[3:9] = 0\n",
    "arr3"
   ]
  },
  {
   "cell_type": "markdown",
   "id": "26158ff5",
   "metadata": {},
   "source": [
    "## 3단계 문제"
   ]
  },
  {
   "cell_type": "markdown",
   "id": "79add9fe",
   "metadata": {},
   "source": [
    "1. 임의의 배열에서 가장 작은 값과 가장 큰 값을 교환하세요. (힌트: np.min(), np.max()와 인덱싱)"
   ]
  },
  {
   "cell_type": "code",
   "execution_count": 66,
   "id": "4a68e05e",
   "metadata": {},
   "outputs": [
    {
     "data": {
      "text/plain": [
       "array([15,  7,  2,  3, 19], dtype=int32)"
      ]
     },
     "execution_count": 66,
     "metadata": {},
     "output_type": "execute_result"
    }
   ],
   "source": [
    "arr4 = np.random.choice(20, size=5, replace=False)\n",
    "arr4"
   ]
  },
  {
   "cell_type": "code",
   "execution_count": 69,
   "id": "e79aca70",
   "metadata": {},
   "outputs": [],
   "source": [
    "arr4_min = np.min(arr4)\n",
    "min_idx = np.argmin(arr4)"
   ]
  },
  {
   "cell_type": "code",
   "execution_count": 70,
   "id": "067957e2",
   "metadata": {},
   "outputs": [],
   "source": [
    "arr4_max = np.max(arr4)\n",
    "max_idx = np.argmax(arr4)"
   ]
  },
  {
   "cell_type": "code",
   "execution_count": 71,
   "id": "95511743",
   "metadata": {},
   "outputs": [
    {
     "data": {
      "text/plain": [
       "array([15,  7, 19,  3,  2], dtype=int32)"
      ]
     },
     "execution_count": 71,
     "metadata": {},
     "output_type": "execute_result"
    }
   ],
   "source": [
    "arr4[max_idx] = arr4_min\n",
    "arr4[min_idx] = arr4_max\n",
    "arr4"
   ]
  },
  {
   "cell_type": "markdown",
   "id": "f6badbe2",
   "metadata": {},
   "source": [
    "2. 3차원 배열의 각 슬라이스마다 평균값을 계산하세요. (힌트: np.mean()과 축 설정)"
   ]
  },
  {
   "cell_type": "code",
   "execution_count": 46,
   "id": "a047a088",
   "metadata": {},
   "outputs": [
    {
     "name": "stdout",
     "output_type": "stream",
     "text": [
      "[[[ 0  1  2]\n",
      "  [ 3  4  5]\n",
      "  [ 6  7  8]]\n",
      "\n",
      " [[ 9 10 11]\n",
      "  [12 13 14]\n",
      "  [15 16 17]]\n",
      "\n",
      " [[18 19 20]\n",
      "  [21 22 23]\n",
      "  [24 25 26]]]\n"
     ]
    },
    {
     "data": {
      "text/plain": [
       "array([ 4., 13., 22.])"
      ]
     },
     "execution_count": 46,
     "metadata": {},
     "output_type": "execute_result"
    }
   ],
   "source": [
    "arr5 = np.arange(27).reshape(3, 3, 3)\n",
    "print(arr5)\n",
    "np.mean(arr5, axis=(1, 2))"
   ]
  },
  {
   "cell_type": "markdown",
   "id": "23c17942",
   "metadata": {},
   "source": [
    "3. 크기가 100인 배열을 생성하고 평균, 표준편차를 계산하세요. (힌트: np.mean(), np.std())"
   ]
  },
  {
   "cell_type": "code",
   "execution_count": 48,
   "id": "77dcd9d3",
   "metadata": {},
   "outputs": [
    {
     "name": "stdout",
     "output_type": "stream",
     "text": [
      "49.5\n",
      "28.86607004772212\n"
     ]
    }
   ],
   "source": [
    "arr6 = np.arange(100)\n",
    "print(np.mean(arr6))\n",
    "print(np.std(arr6))"
   ]
  },
  {
   "cell_type": "markdown",
   "id": "266b6d86",
   "metadata": {},
   "source": [
    "4. 주어진 2D 배열에서 고유한 행을 찾으세요. (힌트: np.unique()와 axis 설정)"
   ]
  },
  {
   "cell_type": "code",
   "execution_count": 65,
   "id": "d5f2277f",
   "metadata": {},
   "outputs": [
    {
     "data": {
      "text/plain": [
       "array([[0, 0, 0],\n",
       "       [1, 2, 3],\n",
       "       [4, 5, 6],\n",
       "       [7, 8, 9]])"
      ]
     },
     "execution_count": 65,
     "metadata": {},
     "output_type": "execute_result"
    }
   ],
   "source": [
    "arr7 = np.array([\n",
    "    [1, 2, 3],\n",
    "    [4, 5, 6],\n",
    "    [1, 2, 3],\n",
    "    [7, 8, 9],\n",
    "    [4, 5, 6],\n",
    "    [0, 0, 0]\n",
    "])\n",
    "\n",
    "np.unique(arr7, axis=0)"
   ]
  },
  {
   "cell_type": "markdown",
   "id": "fe710c62",
   "metadata": {},
   "source": [
    "5. 임의의 10x10 배열에서 가장 큰 값 5개를 찾으세요. (힌트: np.argsort()와 슬라이싱)"
   ]
  },
  {
   "cell_type": "code",
   "execution_count": 61,
   "id": "82f1e467",
   "metadata": {},
   "outputs": [
    {
     "data": {
      "text/plain": [
       "array([[26, 84, 47,  5, 69, 81, 63, 65, 33, 46],\n",
       "       [41, 89, 42, 29, 21, 48, 36, 90, 51, 92],\n",
       "       [49, 53, 73, 85, 50, 30, 13, 32, 56, 77],\n",
       "       [68,  8, 94, 58,  1, 54, 15, 23, 52, 70],\n",
       "       [ 3, 82,  6, 37, 75,  9, 22, 12, 71, 39],\n",
       "       [76, 57, 80, 17, 45, 20, 64, 35, 87, 78],\n",
       "       [99, 19,  0, 24, 34, 79, 61, 31, 59, 83],\n",
       "       [14, 10, 66, 28, 97, 98, 25, 60, 88, 93],\n",
       "       [96, 86,  7, 44, 74, 67, 62, 43, 72, 95],\n",
       "       [38,  4, 11, 18, 91,  2, 40, 27, 55, 16]], dtype=int32)"
      ]
     },
     "execution_count": 61,
     "metadata": {},
     "output_type": "execute_result"
    }
   ],
   "source": [
    "arr8 = np.random.choice(100, size=(10, 10), replace=False)\n",
    "arr8"
   ]
  },
  {
   "cell_type": "code",
   "execution_count": 64,
   "id": "ff9b67ac",
   "metadata": {},
   "outputs": [
    {
     "data": {
      "text/plain": [
       "array([26, 84, 47,  5, 69, 81, 63, 65, 33, 46, 41, 89, 42, 29, 21, 48, 36,\n",
       "       90, 51, 92, 49, 53, 73, 85, 50, 30, 13, 32, 56, 77, 68,  8, 94, 58,\n",
       "        1, 54, 15, 23, 52, 70,  3, 82,  6, 37, 75,  9, 22, 12, 71, 39, 76,\n",
       "       57, 80, 17, 45, 20, 64, 35, 87, 78, 99, 19,  0, 24, 34, 79, 61, 31,\n",
       "       59, 83, 14, 10, 66, 28, 97, 98, 25, 60, 88, 93, 96, 86,  7, 44, 74,\n",
       "       67, 62, 43, 72, 95, 38,  4, 11, 18, 91,  2, 40, 27, 55, 16],\n",
       "      dtype=int32)"
      ]
     },
     "execution_count": 64,
     "metadata": {},
     "output_type": "execute_result"
    }
   ],
   "source": [
    "arr8.flatten()"
   ]
  },
  {
   "cell_type": "code",
   "execution_count": 62,
   "id": "336b2b8d",
   "metadata": {},
   "outputs": [
    {
     "data": {
      "text/plain": [
       "array([95, 96, 97, 98, 99], dtype=int32)"
      ]
     },
     "execution_count": 62,
     "metadata": {},
     "output_type": "execute_result"
    }
   ],
   "source": [
    "idx = np.argsort(arr8.flatten())\n",
    "arr8.flatten()[idx[-5:]]"
   ]
  },
  {
   "cell_type": "code",
   "execution_count": 63,
   "id": "4cb25ac6",
   "metadata": {},
   "outputs": [
    {
     "data": {
      "text/plain": [
       "array([[3, 0, 8, 9, 2, 6, 7, 4, 5, 1],\n",
       "       [4, 3, 6, 0, 2, 5, 8, 1, 7, 9],\n",
       "       [6, 5, 7, 0, 4, 1, 8, 2, 9, 3],\n",
       "       [4, 1, 6, 7, 8, 5, 3, 0, 9, 2],\n",
       "       [0, 2, 5, 7, 6, 3, 9, 8, 4, 1],\n",
       "       [3, 5, 7, 4, 1, 6, 0, 9, 2, 8],\n",
       "       [2, 1, 3, 7, 4, 8, 6, 5, 9, 0],\n",
       "       [1, 0, 6, 3, 7, 2, 8, 9, 4, 5],\n",
       "       [2, 7, 3, 6, 5, 8, 4, 1, 9, 0],\n",
       "       [5, 1, 2, 9, 3, 7, 0, 6, 8, 4]])"
      ]
     },
     "execution_count": 63,
     "metadata": {},
     "output_type": "execute_result"
    }
   ],
   "source": [
    "np.argsort(arr8)"
   ]
  },
  {
   "cell_type": "code",
   "execution_count": null,
   "id": "1d156344",
   "metadata": {},
   "outputs": [],
   "source": []
  }
 ],
 "metadata": {
  "kernelspec": {
   "display_name": "hipython",
   "language": "python",
   "name": "python3"
  },
  "language_info": {
   "codemirror_mode": {
    "name": "ipython",
    "version": 3
   },
   "file_extension": ".py",
   "mimetype": "text/x-python",
   "name": "python",
   "nbconvert_exporter": "python",
   "pygments_lexer": "ipython3",
   "version": "3.12.9"
  }
 },
 "nbformat": 4,
 "nbformat_minor": 5
}
