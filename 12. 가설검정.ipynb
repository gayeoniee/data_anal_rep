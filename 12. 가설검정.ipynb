{
 "cells": [
  {
   "cell_type": "code",
   "execution_count": 26,
   "id": "fba5703f",
   "metadata": {},
   "outputs": [],
   "source": [
    "import numpy as np\n",
    "import pandas as pd\n",
    "import matplotlib.pyplot as plt\n",
    "import scipy.stats as stats\n",
    "%matplotlib inline\n",
    "plt.rc('figure', figsize=(10, 6))\n",
    "from matplotlib import rcParams\n",
    "rcParams['font.family'] = 'New Gulim'\n",
    "rcParams['font.size'] = 10\n",
    "rcParams['axes.unicode_minus'] = False"
   ]
  },
  {
   "cell_type": "markdown",
   "id": "d612e0f7",
   "metadata": {},
   "source": [
    "# 가설검정 단계"
   ]
  },
  {
   "cell_type": "markdown",
   "id": "421b0664",
   "metadata": {},
   "source": [
    "대한민국 남성의 평균 몸무게는 70킬로그램이다."
   ]
  },
  {
   "cell_type": "code",
   "execution_count": 27,
   "id": "78492803",
   "metadata": {},
   "outputs": [
    {
     "name": "stdout",
     "output_type": "stream",
     "text": [
      "평균 : 70.08573280308887\n",
      "p-value : 0.953913826658112\n",
      "검정결과 : 귀무가설 채택\n",
      "대한민국 남성의 평균 몸무게는 70킬로그램이다\n"
     ]
    }
   ],
   "source": [
    "# 1. 가설 수립\n",
    "# H0: 대한민국 남성의 평균 몸무게는 70킬로그램이다 (차이 x)\n",
    "# H1: 대한민국 남성의 평균 몸무게는 70킬로그램이 아니다 (차이 o)\n",
    "\n",
    "# 2. 통계량 산출 - 데이터 수집\n",
    "np.random.seed(123)\n",
    "weight = np.random.uniform(40, 100, 100)\n",
    "\n",
    "test_result = stats.ttest_1samp(weight, 70)  # t 검정\n",
    "print(f'평균 : {np.mean(weight)}')\n",
    "print(f'p-value : {test_result.pvalue}')\n",
    "\n",
    "\n",
    "# 3. 기각/채택 여부 판단\n",
    "print(f'검정결과 : {'귀무가설 기각' if test_result.pvalue < 0.05 else '귀무가설 채택'}')\n",
    "\n",
    "# 4. 결정\n",
    "if test_result.pvalue < 0.05:\n",
    "    print('대한민국 남성의 평균 몸무게는 70킬로그램이 아니다')\n",
    "else:\n",
    "    print('대한민국 남성의 평균 몸무게는 70킬로그램이다')"
   ]
  },
  {
   "cell_type": "markdown",
   "id": "cbe7eb9b",
   "metadata": {},
   "source": [
    "# T 검정 "
   ]
  },
  {
   "cell_type": "markdown",
   "id": "f7d56e43",
   "metadata": {},
   "source": [
    "### 예제 1: 평균 비교 - 일표본(단표본) t검정\n",
    "\n",
    "**문제:** 하루 커피 섭취량이 평균 2.5잔이라고 알려져 있다.   \n",
    "실제 설문조사에서 2.8잔이 나왔다.   \n",
    "과연 차이가 통계적으로 유의한가?"
   ]
  },
  {
   "cell_type": "code",
   "execution_count": 28,
   "id": "e927429f",
   "metadata": {},
   "outputs": [
    {
     "name": "stdout",
     "output_type": "stream",
     "text": [
      "검정결과 : 귀무가설 기각\n",
      "평균값 2.5잔과 유의한 차이가 있다.\n"
     ]
    }
   ],
   "source": [
    "# 표본 데이터 (30명)\n",
    "coffee_data = [2.9, 2.4, 2.7, 3.0, 2.6, 2.8, 2.9, 3.1, 2.7, 2.6,\n",
    "               2.8, 2.5, 3.2, 3.0, 2.4, 2.6, 2.7, 3.1, 2.8, 2.7,\n",
    "               2.5, 2.9, 2.6, 2.8, 2.9, 2.5, 2.7, 2.8, 3.0, 2.9]\n",
    "\n",
    "# 단일표본 t-검정\n",
    "test_result = stats.ttest_1samp(coffee_data, 2.5)\n",
    "\n",
    "print(f'검정결과 : {'귀무가설 기각' if test_result.pvalue < 0.05 else '귀무가설 채택'}')\n",
    "\n",
    "if test_result.pvalue < 0.05:\n",
    "    print('평균값 2.5잔과 유의한 차이가 있다.')\n",
    "else:\n",
    "    print('평균값 2.5잔과 유의한 차이가 없다.')"
   ]
  },
  {
   "cell_type": "code",
   "execution_count": 29,
   "id": "84427b10",
   "metadata": {},
   "outputs": [
    {
     "name": "stdout",
     "output_type": "stream",
     "text": [
      "t값 = 7.031, p값 = 0.0000000986\n"
     ]
    }
   ],
   "source": [
    "t_stat, p_value = stats.ttest_1samp(coffee_data, popmean=2.5)\n",
    "print(f\"t값 = {t_stat:.3f}, p값 = {p_value:.10f}\")"
   ]
  },
  {
   "cell_type": "markdown",
   "id": "aeab7fdc",
   "metadata": {},
   "source": [
    "t값 = 7.031은 표본과 모집단 평균간 차이가 표준오차의 7배라는 통계량   \n",
    "-> 표본의 평균이 모집단 평균 2.5에서 7* 표준오차만큼 떨어져있다.   \n",
    "-> 매우 큰 차이\n",
    "\n",
    "이 통계량은 p-value < 0.05 이므로 통계적으로 유의한 차이가 있다고 할 수 있음"
   ]
  },
  {
   "cell_type": "markdown",
   "id": "aa6d1d77",
   "metadata": {},
   "source": [
    "### 예제 2: 두 그룹 비교 - 이표본(독립표본) t검정\n",
    "\n",
    "**문제:** A와 B 수업의 시험 평균 점수가 차이가 있는가?"
   ]
  },
  {
   "cell_type": "code",
   "execution_count": 30,
   "id": "bcae4834",
   "metadata": {},
   "outputs": [
    {
     "name": "stdout",
     "output_type": "stream",
     "text": [
      "t값 = 5.331, p값 = 0.0000604698\n"
     ]
    }
   ],
   "source": [
    "group_A = [78, 85, 82, 88, 76, 81, 79, 84, 82, 80]\n",
    "group_B = [72, 75, 78, 74, 71, 77, 70, 76, 75, 73]\n",
    "\n",
    "t_stat, p_value = stats.ttest_ind(group_A, group_B, equal_var=False)\n",
    "print(f\"t값 = {t_stat:.3f}, p값 = {p_value:.10f}\")"
   ]
  },
  {
   "cell_type": "markdown",
   "id": "87f47232",
   "metadata": {},
   "source": [
    "H0 : A와 B 두 수업의 시험 평균 점수의 차이는 없다.   \n",
    "H1 : A와 B 두 수업의 시험 평균 점수의 차이가 있다.\n",
    "\n",
    "귀무가설 기각   \n",
    "두 그룹의 평균은 표준오차의 5배정도 차이를 보인다.   \n",
    "이 통계량은 p-value < 0.05 이므로 통계적으로 유의한 차이가 있다고 할 수 있음"
   ]
  },
  {
   "cell_type": "markdown",
   "id": "3bc9a4f5",
   "metadata": {},
   "source": [
    "### 예제 3: 전후의 비교 -  대응 표본 T 검정 \n",
    "\n",
    "약물 투여 전후 혈압 비교"
   ]
  },
  {
   "cell_type": "code",
   "execution_count": 31,
   "id": "c3cff21c",
   "metadata": {},
   "outputs": [
    {
     "name": "stdout",
     "output_type": "stream",
     "text": [
      "t값 = 25.327, p값 = 0.0000000011\n"
     ]
    }
   ],
   "source": [
    "# 대응 표본 t-검정 예제: 약물 투여 전후 혈압 비교\n",
    "before = [120, 122, 143, 130, 135, 118, 127, 140, 132, 125]\n",
    "after = [115, 117, 138, 125, 129, 112, 120, 135, 126, 119]\n",
    "\n",
    "t_stat, p_value = stats.ttest_rel(before, after)\n",
    "print(f\"t값 = {t_stat:.3f}, p값 = {p_value:.10f}\")"
   ]
  },
  {
   "cell_type": "markdown",
   "id": "ebe50481",
   "metadata": {},
   "source": [
    "H0 : 약물 투여 전후 혈압의 차이는 없다.   \n",
    "H1 : 약물 투여 전후 혈압의 차이가 있다.\n",
    "\n",
    "귀무가설 기각   \n",
    "두 그룹의 평균은 표준오차의 25배정도 차이를 보인다.   \n",
    "이 p값은 p-value < 0.05 이므로 통계적으로 유의한 차이가 있다고 할 수 있음"
   ]
  },
  {
   "cell_type": "markdown",
   "id": "bbcc520e",
   "metadata": {},
   "source": [
    "### 예제 4: 범주형 변수 - 카이제곱 검정\n",
    "\n",
    "**문제:** 성별에 따라 커피를 더 선호하는지?"
   ]
  },
  {
   "cell_type": "code",
   "execution_count": 32,
   "id": "1ec32ddb",
   "metadata": {},
   "outputs": [
    {
     "name": "stdout",
     "output_type": "stream",
     "text": [
      "chi2 = 3.857, p값 = 0.04953\n"
     ]
    }
   ],
   "source": [
    "obs = np.array([[40, 10],  # 남자 (좋아함, 안좋아함) 교차표\n",
    "                [30, 20]]) # 여자\n",
    "\n",
    "chi2, p, dof, expected = stats.chi2_contingency(obs)\n",
    "print(f\"chi2 = {chi2:.3f}, p값 = {p:.5f}\")"
   ]
  },
  {
   "cell_type": "markdown",
   "id": "a55e3a9b",
   "metadata": {},
   "source": [
    "H0 : 커피 선호와 성별간 연관성은 없다.   \n",
    "H1 : 커피 선호와 성별은 연관성이 있다.\n",
    "\n",
    "귀무가설 기각   \n",
    "두 그룹의 평균은 표준오차의 3.8배정도 차이를 보인다.   \n",
    "이 p값은 p-value < 0.05 이므로 통계적으로 유의한 차이가 있다고 할 수 있음 -> 연관 있음"
   ]
  },
  {
   "cell_type": "code",
   "execution_count": 33,
   "id": "916ae371",
   "metadata": {},
   "outputs": [
    {
     "name": "stdout",
     "output_type": "stream",
     "text": [
      "F값: 24.28, p값: 0.0013\n"
     ]
    }
   ],
   "source": [
    "from scipy.stats import f_oneway\n",
    "\n",
    "# ANOVA(분산분석)\n",
    "\n",
    "# 세 그룹의 점수\n",
    "group1 = [80, 85, 90]\n",
    "group2 = [70, 75, 78]\n",
    "group3 = [60, 65, 62]\n",
    "\n",
    "f_stat, p_value = f_oneway(group1, group2, group3)\n",
    "print(f\"F값: {f_stat:.2f}, p값: {p_value:.4f}\")"
   ]
  },
  {
   "cell_type": "markdown",
   "id": "fbe73251",
   "metadata": {},
   "source": [
    "H0 : 세개 그룹의 평균은 차이가 없다.   \n",
    "H1 : 적어도 1개의 그룹은 다르다.\n",
    "\n",
    "결과 : f 값 24 - 그룹간 분산의 차이가 그룹내 분산보다 크다.   \n",
    "p-value = 0.0013 - 유의 수준보다 작다   \n",
    "\n",
    "귀무가설 기각, 그룹간 평균은 유의미한 차이가 있다."
   ]
  },
  {
   "cell_type": "code",
   "execution_count": 34,
   "id": "efdd9690",
   "metadata": {},
   "outputs": [
    {
     "data": {
      "text/plain": [
       "0.6785714285714285"
      ]
     },
     "execution_count": 34,
     "metadata": {},
     "output_type": "execute_result"
    }
   ],
   "source": [
    "P_A = 0.1 # 암일 확률\n",
    "P_not_A = 1 - P_A  # 암이 아닐 확률\n",
    "P_B_given_A = 0.95 # 양성 판정의 정확도\n",
    "P_B_given_not_A = 0.05 # 오진 (암이 아닌데 양성 판정)\n",
    "\n",
    "# 베이즈의 정리\n",
    "P_A_given_B = P_B_given_A * P_A / ((P_B_given_A * P_A) + P_B_given_not_A * P_not_A)\n",
    "P_A_given_B"
   ]
  }
 ],
 "metadata": {
  "kernelspec": {
   "display_name": "hipython",
   "language": "python",
   "name": "python3"
  },
  "language_info": {
   "codemirror_mode": {
    "name": "ipython",
    "version": 3
   },
   "file_extension": ".py",
   "mimetype": "text/x-python",
   "name": "python",
   "nbconvert_exporter": "python",
   "pygments_lexer": "ipython3",
   "version": "3.12.9"
  }
 },
 "nbformat": 4,
 "nbformat_minor": 5
}
