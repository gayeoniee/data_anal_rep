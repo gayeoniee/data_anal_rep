{
 "cells": [
  {
   "cell_type": "code",
   "execution_count": 4,
   "id": "fba5703f",
   "metadata": {},
   "outputs": [],
   "source": [
    "import numpy as np\n",
    "import pandas as pd\n",
    "import matplotlib.pyplot as plt\n",
    "import scipy.stats as stats\n",
    "%matplotlib inline\n",
    "plt.rc('figure', figsize=(10, 6))\n",
    "from matplotlib import rcParams\n",
    "rcParams['font.family'] = 'New Gulim'\n",
    "rcParams['font.size'] = 10\n",
    "rcParams['axes.unicode_minus'] = False"
   ]
  },
  {
   "cell_type": "markdown",
   "id": "d612e0f7",
   "metadata": {},
   "source": [
    "# 가설검정 단계"
   ]
  },
  {
   "cell_type": "markdown",
   "id": "421b0664",
   "metadata": {},
   "source": [
    "대한민국 남성의 평균 몸무게는 70킬로그램이다."
   ]
  },
  {
   "cell_type": "code",
   "execution_count": 10,
   "id": "78492803",
   "metadata": {},
   "outputs": [
    {
     "name": "stdout",
     "output_type": "stream",
     "text": [
      "평균 : 70.08573280308887\n",
      "p-value : 0.953913826658112\n",
      "검정결과 : 귀무가설 채택\n",
      "대한민국 남성의 평균 몸무게는 70킬로그램이다\n"
     ]
    }
   ],
   "source": [
    "# 1. 가설 수립\n",
    "# H0: 대한민국 남성의 평균 몸무게는 70킬로그램이다 (차이 x)\n",
    "# H1: 대한민국 남성의 평균 몸무게는 70킬로그램이 아니다 (차이 o)\n",
    "\n",
    "# 2. 통계량 산출 - 데이터 수집\n",
    "np.random.seed(123)\n",
    "weight = np.random.uniform(40, 100, 100)\n",
    "\n",
    "test_result = stats.ttest_1samp(weight, 70)  # t 검정\n",
    "print(f'평균 : {np.mean(weight)}')\n",
    "print(f'p-value : {test_result.pvalue}')\n",
    "\n",
    "\n",
    "# 3. 기각/채택 여부 판단\n",
    "print(f'검정결과 : {'귀무가설 기각' if test_result.pvalue < 0.05 else '귀무가설 채택'}')\n",
    "\n",
    "# 4. 결정\n",
    "if test_result.pvalue < 0.05:\n",
    "    print('대한민국 남성의 평균 몸무게는 70킬로그램이 아니다')\n",
    "else:\n",
    "    print('대한민국 남성의 평균 몸무게는 70킬로그램이다')"
   ]
  },
  {
   "cell_type": "markdown",
   "id": "cbe7eb9b",
   "metadata": {},
   "source": [
    "# T 검정 "
   ]
  },
  {
   "cell_type": "markdown",
   "id": "f7d56e43",
   "metadata": {},
   "source": [
    "### 예제 1: 평균 비교 - 일표본(단표본) t검정\n",
    "\n",
    "**문제:** 하루 커피 섭취량이 평균 2.5잔이라고 알려져 있다.   \n",
    "실제 설문조사에서 2.8잔이 나왔다.   \n",
    "과연 차이가 통계적으로 유의한가?"
   ]
  },
  {
   "cell_type": "code",
   "execution_count": 14,
   "id": "e927429f",
   "metadata": {},
   "outputs": [
    {
     "name": "stdout",
     "output_type": "stream",
     "text": [
      "검정결과 : 귀무가설 기각\n",
      "평균값 2.5잔과 유의한 차이가 있다.\n"
     ]
    }
   ],
   "source": [
    "# 표본 데이터 (30명)\n",
    "coffee_data = [2.9, 2.4, 2.7, 3.0, 2.6, 2.8, 2.9, 3.1, 2.7, 2.6,\n",
    "               2.8, 2.5, 3.2, 3.0, 2.4, 2.6, 2.7, 3.1, 2.8, 2.7,\n",
    "               2.5, 2.9, 2.6, 2.8, 2.9, 2.5, 2.7, 2.8, 3.0, 2.9]\n",
    "\n",
    "# 단일표본 t-검정\n",
    "test_result = stats.ttest_1samp(coffee_data, 2.5)\n",
    "\n",
    "print(f'검정결과 : {'귀무가설 기각' if test_result.pvalue < 0.05 else '귀무가설 채택'}')\n",
    "\n",
    "if test_result.pvalue < 0.05:\n",
    "    print('평균값 2.5잔과 유의한 차이가 있다.')\n",
    "else:\n",
    "    print('평균값 2.5잔과 유의한 차이가 없다.')"
   ]
  },
  {
   "cell_type": "code",
   "execution_count": 18,
   "id": "84427b10",
   "metadata": {},
   "outputs": [
    {
     "name": "stdout",
     "output_type": "stream",
     "text": [
      "t값 = 7.031, p값 = 0.0000000986\n"
     ]
    }
   ],
   "source": [
    "t_stat, p_value = stats.ttest_1samp(coffee_data, popmean=2.5)\n",
    "print(f\"t값 = {t_stat:.3f}, p값 = {p_value:.10f}\")"
   ]
  },
  {
   "cell_type": "markdown",
   "id": "aeab7fdc",
   "metadata": {},
   "source": [
    "t값 = 7.031은 표본과 모집단 평균간 차이가 표준오차의 7배라는 통계량   \n",
    "-> 표본의 평균이 모집단 평균 2.5에서 7* 표준오차만큼 떨어져있다.   \n",
    "-> 매우 큰 차이\n",
    "\n",
    "이 통계량은 p-value < 0.05 이므로 통계적으로 유의한 차이가 있다고 할 수 있음"
   ]
  },
  {
   "cell_type": "markdown",
   "id": "aa6d1d77",
   "metadata": {},
   "source": [
    "### 예제 2: 두 그룹 비교 - 이표본(독립표본) t검정\n",
    "\n",
    "**문제:** A와 B 수업의 시험 평균 점수가 차이가 있는가?"
   ]
  },
  {
   "cell_type": "code",
   "execution_count": 20,
   "id": "bcae4834",
   "metadata": {},
   "outputs": [
    {
     "name": "stdout",
     "output_type": "stream",
     "text": [
      "t값 = 5.331, p값 = 0.0000604698\n"
     ]
    }
   ],
   "source": [
    "group_A = [78, 85, 82, 88, 76, 81, 79, 84, 82, 80]\n",
    "group_B = [72, 75, 78, 74, 71, 77, 70, 76, 75, 73]\n",
    "\n",
    "t_stat, p_value = stats.ttest_ind(group_A, group_B, equal_var=False)\n",
    "print(f\"t값 = {t_stat:.3f}, p값 = {p_value:.10f}\")"
   ]
  },
  {
   "cell_type": "markdown",
   "id": "87f47232",
   "metadata": {},
   "source": [
    "귀무가설 기각   \n",
    "이 통계량은 p-value < 0.05 이므로 통계적으로 유의한 차이가 있다고 할 수 있음"
   ]
  },
  {
   "cell_type": "code",
   "execution_count": null,
   "id": "c3cff21c",
   "metadata": {},
   "outputs": [],
   "source": []
  }
 ],
 "metadata": {
  "kernelspec": {
   "display_name": "hipython",
   "language": "python",
   "name": "python3"
  },
  "language_info": {
   "codemirror_mode": {
    "name": "ipython",
    "version": 3
   },
   "file_extension": ".py",
   "mimetype": "text/x-python",
   "name": "python",
   "nbconvert_exporter": "python",
   "pygments_lexer": "ipython3",
   "version": "3.12.9"
  }
 },
 "nbformat": 4,
 "nbformat_minor": 5
}
