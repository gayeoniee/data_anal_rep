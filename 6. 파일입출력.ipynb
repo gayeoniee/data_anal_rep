{
 "cells": [
  {
   "cell_type": "markdown",
   "id": "0323e80e",
   "metadata": {},
   "source": [
    "# 파일 읽기"
   ]
  },
  {
   "cell_type": "code",
   "execution_count": 47,
   "id": "58ac0712",
   "metadata": {},
   "outputs": [],
   "source": [
    "with open('abc/text.txt', 'w') as f:\n",
    "    f.write('hello')"
   ]
  },
  {
   "cell_type": "code",
   "execution_count": 48,
   "id": "c60473bd",
   "metadata": {},
   "outputs": [],
   "source": [
    "f = open('abc/text.txt', 'r')\n",
    "f.read()\n",
    "f.close()"
   ]
  },
  {
   "cell_type": "code",
   "execution_count": 49,
   "id": "3f082ae3",
   "metadata": {},
   "outputs": [],
   "source": [
    "with open('abc/text1.txt', 'w', encoding='utf-8') as f:\n",
    "    f.write('안녕하세요\\n')\n",
    "    f.write('넹........\\n')"
   ]
  },
  {
   "cell_type": "code",
   "execution_count": 50,
   "id": "a88ea3cd",
   "metadata": {},
   "outputs": [],
   "source": [
    "# with open('abc/text1.txt', 'r', encoding='utf-16') as f:\n",
    "#     txtfile = f.read()  # UnicodeError: UTF-16 stream does not start with BOM\n",
    "#     print(txtfile)"
   ]
  },
  {
   "cell_type": "code",
   "execution_count": 51,
   "id": "ee553051",
   "metadata": {},
   "outputs": [
    {
     "name": "stdout",
     "output_type": "stream",
     "text": [
      "안녕하세요\n",
      "넹........\n",
      "\n"
     ]
    }
   ],
   "source": [
    "with open('abc/text1.txt', 'r', encoding='utf-8') as f:\n",
    "    txtfile = f.read()\n",
    "    print(txtfile)"
   ]
  },
  {
   "cell_type": "code",
   "execution_count": 52,
   "id": "8ec1943d",
   "metadata": {},
   "outputs": [],
   "source": [
    "with open('abc/text1.txt', 'a', encoding='utf-8') as f:\n",
    "    f.write('추가\\n')\n",
    "    f.write('야호\\n')"
   ]
  },
  {
   "cell_type": "code",
   "execution_count": 53,
   "id": "086a780a",
   "metadata": {},
   "outputs": [
    {
     "name": "stdout",
     "output_type": "stream",
     "text": [
      "안녕하세요\n",
      "넹........\n",
      "추가\n",
      "야호\n",
      "\n"
     ]
    }
   ],
   "source": [
    "with open('abc/text1.txt', 'r', encoding='utf-8') as f:\n",
    "    txtfile = f.read()\n",
    "    print(txtfile)"
   ]
  },
  {
   "cell_type": "code",
   "execution_count": 54,
   "id": "554d8a2f",
   "metadata": {},
   "outputs": [],
   "source": [
    "lines = [\"1. 데이터분석함수.ipynb\\n\", \"2. 넘파이연습.ipynb\\n\"]\n",
    "\n",
    "with open('abc/text2.txt', 'w') as f:\n",
    "    f.writelines(lines)"
   ]
  },
  {
   "cell_type": "code",
   "execution_count": 55,
   "id": "27c3f560",
   "metadata": {},
   "outputs": [
    {
     "name": "stdout",
     "output_type": "stream",
     "text": [
      "1. 데이터분석함수.ipynb\n",
      "2. 넘파이연습.ipynb\n",
      "\n"
     ]
    }
   ],
   "source": [
    "# read() : 전체 읽어오기\n",
    "with open('abc/text2.txt', 'r') as f:\n",
    "    line = f.read()\n",
    "    print(line)"
   ]
  },
  {
   "cell_type": "code",
   "execution_count": 59,
   "id": "e552c56b",
   "metadata": {},
   "outputs": [
    {
     "name": "stdout",
     "output_type": "stream",
     "text": [
      "1. 데이터분석함수.ipynb\n",
      "2. 넘파이연습.ipynb\n",
      "\n"
     ]
    }
   ],
   "source": [
    "# readline() : 한 줄씩 읽어오기\n",
    "with open('abc/text2.txt', 'r') as f:\n",
    "    line = f.readline()\n",
    "    line2 = f.readline()\n",
    "    print(line,line2, sep='')"
   ]
  },
  {
   "cell_type": "code",
   "execution_count": 57,
   "id": "0f1ebc85",
   "metadata": {},
   "outputs": [
    {
     "name": "stdout",
     "output_type": "stream",
     "text": [
      "['1. 데이터분석함수.ipynb\\n', '2. 넘파이연습.ipynb\\n']\n"
     ]
    }
   ],
   "source": [
    "# readlines() : 전체를 줄단위로 리스트 형태로 읽어오기\n",
    "with open('abc/text2.txt', 'r') as f:\n",
    "    line = f.readlines()\n",
    "    print(line)"
   ]
  },
  {
   "cell_type": "markdown",
   "id": "a0e381c1",
   "metadata": {},
   "source": [
    "# 피클, 직렬화/역직렬화"
   ]
  },
  {
   "cell_type": "code",
   "execution_count": 60,
   "id": "47c96ba5",
   "metadata": {},
   "outputs": [],
   "source": [
    "import pickle\n",
    "\n",
    "# 직렬화할 데이터 딕셔너리\n",
    "data = {\n",
    "    'name': '홍길동',\n",
    "    'age': 30,\n",
    "    'scores': [90, 85, 88]\n",
    "}\n",
    "\n",
    "# 직렬화하여 파일에 저장\n",
    "with open('abc/data.pickle', 'wb') as f:\n",
    "    pickle.dump(data, f)"
   ]
  },
  {
   "cell_type": "code",
   "execution_count": 61,
   "id": "90d8549d",
   "metadata": {},
   "outputs": [
    {
     "name": "stdout",
     "output_type": "stream",
     "text": [
      "{'name': '홍길동', 'age': 30, 'scores': [90, 85, 88]}\n"
     ]
    }
   ],
   "source": [
    "# 파일에서 역직렬화하여 읽기\n",
    "with open('abc/data.pickle', 'rb') as f:\n",
    "    loaded_data = pickle.load(f)\n",
    "\n",
    "print(loaded_data)  # 원본 데이터가 그대로 복원됨"
   ]
  },
  {
   "cell_type": "code",
   "execution_count": 63,
   "id": "9c86c502",
   "metadata": {},
   "outputs": [],
   "source": [
    "import json"
   ]
  },
  {
   "cell_type": "code",
   "execution_count": 64,
   "id": "cf1c4736",
   "metadata": {},
   "outputs": [],
   "source": [
    "with open('abc/data.json', 'w') as f:\n",
    "    json.dump(data, f)"
   ]
  },
  {
   "cell_type": "code",
   "execution_count": 65,
   "id": "ee39e2f4",
   "metadata": {},
   "outputs": [
    {
     "name": "stdout",
     "output_type": "stream",
     "text": [
      "{'name': '홍길동', 'age': 30, 'scores': [90, 85, 88]}\n"
     ]
    }
   ],
   "source": [
    "with open('abc/data.json', 'r') as f:\n",
    "    loaded_txt = json.load(f)\n",
    "\n",
    "print(loaded_txt)"
   ]
  },
  {
   "cell_type": "code",
   "execution_count": 67,
   "id": "e1d2a2cb",
   "metadata": {},
   "outputs": [],
   "source": [
    "import csv\n",
    "\n",
    "data = [['name', 'age'], ['bob', 20], ['alice', 15]]"
   ]
  },
  {
   "cell_type": "code",
   "execution_count": 73,
   "id": "9b2e05b6",
   "metadata": {},
   "outputs": [],
   "source": [
    "with open('abc/data.csv', 'w') as f:\n",
    "    wrt = csv.writer(f)\n",
    "    wrt.writerows(data)"
   ]
  },
  {
   "cell_type": "code",
   "execution_count": 85,
   "id": "7d234fc4",
   "metadata": {},
   "outputs": [
    {
     "name": "stdout",
     "output_type": "stream",
     "text": [
      "[['name', 'age'], [], ['bob', '20'], [], ['alice', '15'], []]\n"
     ]
    }
   ],
   "source": [
    "with open('abc/data.csv', 'r') as f:\n",
    "    loaded_csv = list(csv.reader(f))\n",
    "\n",
    "print(loaded_csv)"
   ]
  },
  {
   "cell_type": "code",
   "execution_count": 92,
   "id": "f119980b",
   "metadata": {},
   "outputs": [
    {
     "name": "stdout",
     "output_type": "stream",
     "text": [
      "['name', 'age']\n",
      "[]\n",
      "['bob', '20']\n",
      "[]\n",
      "['alice', '15']\n",
      "[]\n"
     ]
    }
   ],
   "source": [
    "with open('abc/data.csv', 'r') as f:\n",
    "    loaded_csv = csv.reader(f)\n",
    "    for i in loaded_csv:\n",
    "        print(i)"
   ]
  },
  {
   "cell_type": "code",
   "execution_count": 82,
   "id": "6366b7ea",
   "metadata": {},
   "outputs": [],
   "source": [
    "import pandas as pd\n",
    "\n",
    "df = pd.DataFrame(data[1:], columns=data[0])\n",
    "df.to_csv('abc/data_df.csv', index=False)"
   ]
  },
  {
   "cell_type": "code",
   "execution_count": 83,
   "id": "ae80bb54",
   "metadata": {},
   "outputs": [
    {
     "data": {
      "text/html": [
       "<div>\n",
       "<style scoped>\n",
       "    .dataframe tbody tr th:only-of-type {\n",
       "        vertical-align: middle;\n",
       "    }\n",
       "\n",
       "    .dataframe tbody tr th {\n",
       "        vertical-align: top;\n",
       "    }\n",
       "\n",
       "    .dataframe thead th {\n",
       "        text-align: right;\n",
       "    }\n",
       "</style>\n",
       "<table border=\"1\" class=\"dataframe\">\n",
       "  <thead>\n",
       "    <tr style=\"text-align: right;\">\n",
       "      <th></th>\n",
       "      <th>name</th>\n",
       "      <th>age</th>\n",
       "    </tr>\n",
       "  </thead>\n",
       "  <tbody>\n",
       "    <tr>\n",
       "      <th>0</th>\n",
       "      <td>bob</td>\n",
       "      <td>20</td>\n",
       "    </tr>\n",
       "    <tr>\n",
       "      <th>1</th>\n",
       "      <td>alice</td>\n",
       "      <td>15</td>\n",
       "    </tr>\n",
       "  </tbody>\n",
       "</table>\n",
       "</div>"
      ],
      "text/plain": [
       "    name  age\n",
       "0    bob   20\n",
       "1  alice   15"
      ]
     },
     "execution_count": 83,
     "metadata": {},
     "output_type": "execute_result"
    }
   ],
   "source": [
    "pd.read_csv('abc/data_df.csv')"
   ]
  },
  {
   "cell_type": "code",
   "execution_count": 93,
   "id": "3af6a683",
   "metadata": {},
   "outputs": [
    {
     "data": {
      "text/plain": [
       "[['name', 'age'], ['bob', 20], ['alice', 15]]"
      ]
     },
     "execution_count": 93,
     "metadata": {},
     "output_type": "execute_result"
    }
   ],
   "source": [
    "data"
   ]
  },
  {
   "cell_type": "code",
   "execution_count": null,
   "id": "15f70d7f",
   "metadata": {},
   "outputs": [],
   "source": []
  }
 ],
 "metadata": {
  "kernelspec": {
   "display_name": "hipython",
   "language": "python",
   "name": "python3"
  },
  "language_info": {
   "codemirror_mode": {
    "name": "ipython",
    "version": 3
   },
   "file_extension": ".py",
   "mimetype": "text/x-python",
   "name": "python",
   "nbconvert_exporter": "python",
   "pygments_lexer": "ipython3",
   "version": "3.12.9"
  }
 },
 "nbformat": 4,
 "nbformat_minor": 5
}
