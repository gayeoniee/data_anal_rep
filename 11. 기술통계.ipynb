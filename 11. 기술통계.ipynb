{
 "cells": [
  {
   "cell_type": "markdown",
   "id": "29bcaef1",
   "metadata": {},
   "source": [
    "# 중심을 대표하는 값"
   ]
  },
  {
   "cell_type": "markdown",
   "id": "573da3f8",
   "metadata": {},
   "source": [
    "## 평균"
   ]
  },
  {
   "cell_type": "code",
   "execution_count": 2,
   "id": "7992e7b5",
   "metadata": {},
   "outputs": [
    {
     "name": "stdout",
     "output_type": "stream",
     "text": [
      "30.0\n"
     ]
    }
   ],
   "source": [
    "import numpy as np\n",
    "\n",
    "# 산술평균\n",
    "data = [10, 20, 30, 40, 50]\n",
    "mean_value = np.mean(data)\n",
    "print(mean_value)  # 30.0"
   ]
  },
  {
   "cell_type": "code",
   "execution_count": null,
   "id": "00e765cc",
   "metadata": {},
   "outputs": [
    {
     "data": {
      "text/plain": [
       "np.float64(26.051710846973528)"
      ]
     },
     "execution_count": 3,
     "metadata": {},
     "output_type": "execute_result"
    }
   ],
   "source": [
    "# 기하평균 - n개의 관측치를 모두 곱해 n제곱근으로 표현\n",
    "from scipy.stats import hmean, gmean\n",
    "gmean(data)"
   ]
  },
  {
   "cell_type": "code",
   "execution_count": 19,
   "id": "0beaa22b",
   "metadata": {},
   "outputs": [
    {
     "data": {
      "text/plain": [
       "np.float64(2.285714285714286)"
      ]
     },
     "execution_count": 19,
     "metadata": {},
     "output_type": "execute_result"
    }
   ],
   "source": [
    "# 조화평균 - 역수들의 산술평균을 구해 다시 역수\n",
    "hmean(data)"
   ]
  },
  {
   "cell_type": "code",
   "execution_count": 5,
   "id": "b5165a89",
   "metadata": {},
   "outputs": [
    {
     "data": {
      "text/plain": [
       "np.float64(5800.0)"
      ]
     },
     "execution_count": 5,
     "metadata": {},
     "output_type": "execute_result"
    }
   ],
   "source": [
    "# 가중평균 - 값에 가중치를 부여하여 계산 (중요도가 다를 때)\n",
    "\n",
    "# 가격과 개수\n",
    "prices = [5000, 9000]\n",
    "counts = [8, 2]\n",
    "\n",
    "# (5000 * 8 + 9000 * 2) / (8 + 2)\n",
    "np.average(prices, weights=counts)"
   ]
  },
  {
   "cell_type": "markdown",
   "id": "6c0f23ea",
   "metadata": {},
   "source": [
    "## 중앙값\n",
    "\n",
    "- 이상치(outlier)의 영향을 덜 받음\n",
    "- 짝수 개의 값들이 있을 때 중앙값은 중간에 있는 두 값의 평균을 구함"
   ]
  },
  {
   "cell_type": "code",
   "execution_count": 6,
   "id": "ada83b80",
   "metadata": {},
   "outputs": [
    {
     "data": {
      "text/plain": [
       "[10, 20, 30, 40, 50]"
      ]
     },
     "execution_count": 6,
     "metadata": {},
     "output_type": "execute_result"
    }
   ],
   "source": [
    "data"
   ]
  },
  {
   "cell_type": "code",
   "execution_count": 7,
   "id": "93c309a2",
   "metadata": {},
   "outputs": [
    {
     "data": {
      "text/plain": [
       "np.float64(30.0)"
      ]
     },
     "execution_count": 7,
     "metadata": {},
     "output_type": "execute_result"
    }
   ],
   "source": [
    "np.median(data)"
   ]
  },
  {
   "cell_type": "code",
   "execution_count": 14,
   "id": "54c0cb5a",
   "metadata": {},
   "outputs": [
    {
     "name": "stdout",
     "output_type": "stream",
     "text": [
      "75.0 80.0 85.0\n"
     ]
    }
   ],
   "source": [
    "# 백분위수\n",
    "\n",
    "scores = [15, 75, 80, 85, 95]\n",
    "p25 = np.percentile(scores, 25)  # Q1\n",
    "p50 = np.percentile(scores, 50)  # Q2 - median\n",
    "p75 = np.percentile(scores, 75)  # Q3\n",
    "\n",
    "print(p25, p50, p75)"
   ]
  },
  {
   "cell_type": "code",
   "execution_count": 15,
   "id": "5e072d43",
   "metadata": {},
   "outputs": [
    {
     "data": {
      "text/plain": [
       "np.float64(10.0)"
      ]
     },
     "execution_count": 15,
     "metadata": {},
     "output_type": "execute_result"
    }
   ],
   "source": [
    "# IQR : 사분위범위 \n",
    "# -> Q3 ~ Q1 = 85 - 75 = 10\n",
    "p75 - p25"
   ]
  },
  {
   "cell_type": "markdown",
   "id": "5f523098",
   "metadata": {},
   "source": [
    "중앙값이나 분위수는 개수(위치)를 중요시하는 통계량   \n",
    "-> 이상값/극단적인 값이 중요하지 않음"
   ]
  },
  {
   "cell_type": "markdown",
   "id": "5a2d4b33",
   "metadata": {},
   "source": [
    "## 최빈값\n",
    "\n",
    "- 가장 자주 나타나는 값\n",
    "- 연속형 데이터보다는 범주형 데이터에서 더 유용하게 사용"
   ]
  },
  {
   "cell_type": "code",
   "execution_count": 12,
   "id": "3e5b5789",
   "metadata": {},
   "outputs": [],
   "source": [
    "import pandas as pd"
   ]
  },
  {
   "cell_type": "code",
   "execution_count": 16,
   "id": "f4af7a03",
   "metadata": {},
   "outputs": [
    {
     "data": {
      "text/plain": [
       "0    3\n",
       "dtype: int64"
      ]
     },
     "execution_count": 16,
     "metadata": {},
     "output_type": "execute_result"
    }
   ],
   "source": [
    "data = pd.Series([1, 2, 2, 3, 3, 3, 4, 4])\n",
    "data.mode()   # 가장 많이 등장한 값"
   ]
  },
  {
   "cell_type": "markdown",
   "id": "da45adfe",
   "metadata": {},
   "source": [
    "# 변동 (산포) - 데이터의 퍼짐 정도 측정\n",
    "\n",
    "### 변동성(variability, spread 또는 dispersion)\n",
    "값들이 서로 얼마나 다른지를 나타내는 개념이고 측정하는 기준이다.\n",
    "\n",
    "### 범위\n",
    "\n",
    "가장 일반적으로 사용되는 변동성(variability) 측정치  \n",
    "- 분포 내의 가장 높은 점수에서 가장 낮은 점수를 뺀 값으로 계산\n",
    "- 최대/최소 2개의 값만 사용\n",
    "- 실제 데이터가 어떤 값들로 구성되어있는 지를 설명할 수 없음\n"
   ]
  },
  {
   "cell_type": "code",
   "execution_count": 20,
   "id": "bed0f823",
   "metadata": {},
   "outputs": [
    {
     "name": "stdout",
     "output_type": "stream",
     "text": [
      "40\n"
     ]
    }
   ],
   "source": [
    "data = [10, 20, 30, 40, 50]\n",
    "range_value = max(data) - min(data)\n",
    "print(range_value)  # 40"
   ]
  },
  {
   "cell_type": "markdown",
   "id": "bb0c954c",
   "metadata": {},
   "source": [
    "범위 값이 클수록 데이터의 변동이 크다는 의미   \n",
    "극단값(outlier)에 민감"
   ]
  },
  {
   "cell_type": "code",
   "execution_count": 28,
   "id": "b77aeb36",
   "metadata": {},
   "outputs": [
    {
     "data": {
      "text/html": [
       "<div>\n",
       "<style scoped>\n",
       "    .dataframe tbody tr th:only-of-type {\n",
       "        vertical-align: middle;\n",
       "    }\n",
       "\n",
       "    .dataframe tbody tr th {\n",
       "        vertical-align: top;\n",
       "    }\n",
       "\n",
       "    .dataframe thead th {\n",
       "        text-align: right;\n",
       "    }\n",
       "</style>\n",
       "<table border=\"1\" class=\"dataframe\">\n",
       "  <thead>\n",
       "    <tr style=\"text-align: right;\">\n",
       "      <th></th>\n",
       "      <th>sepal_length</th>\n",
       "      <th>sepal_width</th>\n",
       "      <th>petal_length</th>\n",
       "      <th>petal_width</th>\n",
       "      <th>species</th>\n",
       "    </tr>\n",
       "  </thead>\n",
       "  <tbody>\n",
       "    <tr>\n",
       "      <th>0</th>\n",
       "      <td>5.1</td>\n",
       "      <td>3.5</td>\n",
       "      <td>1.4</td>\n",
       "      <td>0.2</td>\n",
       "      <td>setosa</td>\n",
       "    </tr>\n",
       "    <tr>\n",
       "      <th>1</th>\n",
       "      <td>4.9</td>\n",
       "      <td>3.0</td>\n",
       "      <td>1.4</td>\n",
       "      <td>0.2</td>\n",
       "      <td>setosa</td>\n",
       "    </tr>\n",
       "    <tr>\n",
       "      <th>2</th>\n",
       "      <td>4.7</td>\n",
       "      <td>3.2</td>\n",
       "      <td>1.3</td>\n",
       "      <td>0.2</td>\n",
       "      <td>setosa</td>\n",
       "    </tr>\n",
       "    <tr>\n",
       "      <th>3</th>\n",
       "      <td>4.6</td>\n",
       "      <td>3.1</td>\n",
       "      <td>1.5</td>\n",
       "      <td>0.2</td>\n",
       "      <td>setosa</td>\n",
       "    </tr>\n",
       "    <tr>\n",
       "      <th>4</th>\n",
       "      <td>5.0</td>\n",
       "      <td>3.6</td>\n",
       "      <td>1.4</td>\n",
       "      <td>0.2</td>\n",
       "      <td>setosa</td>\n",
       "    </tr>\n",
       "  </tbody>\n",
       "</table>\n",
       "</div>"
      ],
      "text/plain": [
       "   sepal_length  sepal_width  petal_length  petal_width species\n",
       "0           5.1          3.5           1.4          0.2  setosa\n",
       "1           4.9          3.0           1.4          0.2  setosa\n",
       "2           4.7          3.2           1.3          0.2  setosa\n",
       "3           4.6          3.1           1.5          0.2  setosa\n",
       "4           5.0          3.6           1.4          0.2  setosa"
      ]
     },
     "execution_count": 28,
     "metadata": {},
     "output_type": "execute_result"
    }
   ],
   "source": [
    "import matplotlib.pyplot as plt\n",
    "import seaborn as sns\n",
    "\n",
    "vp_df = sns.load_dataset('iris')\n",
    "vp_df.head()"
   ]
  },
  {
   "cell_type": "code",
   "execution_count": 29,
   "id": "39fead76",
   "metadata": {},
   "outputs": [
    {
     "data": {
      "text/plain": [
       "np.float64(3.6000000000000005)"
      ]
     },
     "execution_count": 29,
     "metadata": {},
     "output_type": "execute_result"
    }
   ],
   "source": [
    "# sepal_length의 범위\n",
    "vp_df['sepal_length'].max() - vp_df['sepal_length'].min()"
   ]
  },
  {
   "cell_type": "code",
   "execution_count": 37,
   "id": "d1030fc0",
   "metadata": {},
   "outputs": [
    {
     "name": "stdout",
     "output_type": "stream",
     "text": [
      "sepal_length    3.6\n",
      "dtype: float64\n",
      "sepal_width    2.4\n",
      "dtype: float64\n",
      "petal_length    5.9\n",
      "dtype: float64\n",
      "petal_width    2.4\n",
      "dtype: float64\n"
     ]
    }
   ],
   "source": [
    "# 모든 속성의 범위 확인 (반복문)\n",
    "for i in vp_df.select_dtypes(include='number').columns:\n",
    "    print(vp_df[[i]].max() - vp_df[[i]].min())"
   ]
  },
  {
   "cell_type": "markdown",
   "id": "a3e36a72",
   "metadata": {},
   "source": [
    "변동성이 가장 큰 속성은 petal_length   \n",
    "petal_length와 petal_width가 sepal_length와   \n",
    "sepal_width보다 상대적으로 변동성이 크다.\n",
    "\n",
    "모델 생성시에 다루어야하는 속성으로 볼 수 있음"
   ]
  },
  {
   "cell_type": "code",
   "execution_count": 69,
   "id": "2596b75f",
   "metadata": {},
   "outputs": [
    {
     "data": {
      "image/png": "[encoded data removed]",
      "text/plain": [
       "<Figure size 1000x400 with 2 Axes>"
      ]
     },
     "metadata": {},
     "output_type": "display_data"
    }
   ],
   "source": [
    "# 산포도로 변동성 확인하기\n",
    "\n",
    "plt.figure(figsize=(10, 4))\n",
    "\n",
    "# petal_length와 petal_width\n",
    "plt.subplot(1, 2, 1)\n",
    "plt.scatter(vp_df['petal_length'], vp_df['petal_width'], c='k')\n",
    "plt.xlabel('petal_length')\n",
    "plt.ylabel('petal_width')\n",
    "plt.title('petal_length VS petal_width')\n",
    "\n",
    "# sepal_length와 sepal_width\n",
    "plt.subplot(1, 2, 2)\n",
    "plt.scatter(vp_df['sepal_length'], vp_df['sepal_width'], c='orange')\n",
    "plt.xlabel('sepal_length')\n",
    "plt.ylabel('sepal_width')\n",
    "plt.title('sepal_length VS sepal_width')\n",
    "\n",
    "plt.tight_layout()"
   ]
  },
  {
   "cell_type": "markdown",
   "id": "bb9404b5",
   "metadata": {},
   "source": [
    "산포도를 이용해 극단적으로 다른 데이터(이상치)가 있는지 확인해볼 필요!"
   ]
  },
  {
   "cell_type": "markdown",
   "id": "8807dfe6",
   "metadata": {},
   "source": [
    "## 분산\n",
    "\n",
    "평균을 중심으로 데이터가 밀집되거나 퍼져 있는 정도"
   ]
  },
  {
   "cell_type": "code",
   "execution_count": 65,
   "id": "35774e98",
   "metadata": {},
   "outputs": [
    {
     "name": "stdout",
     "output_type": "stream",
     "text": [
      "200.0\n"
     ]
    }
   ],
   "source": [
    "data = [10, 20, 30, 40, 50]\n",
    "variance_value = np.var(data)\n",
    "print(variance_value)  # 200.0"
   ]
  },
  {
   "cell_type": "markdown",
   "id": "518cbd64",
   "metadata": {},
   "source": [
    "## 표준편차(Standard Deviation)\n",
    "\n",
    "어떤 표준(standard)으로 부터 벗어난(deviate) 정도"
   ]
  },
  {
   "cell_type": "code",
   "execution_count": 70,
   "id": "656f83a0",
   "metadata": {},
   "outputs": [
    {
     "name": "stdout",
     "output_type": "stream",
     "text": [
      "14.142135623730951\n"
     ]
    }
   ],
   "source": [
    "std_dev = np.std(data)\n",
    "print(std_dev)  # 14.14"
   ]
  },
  {
   "cell_type": "markdown",
   "id": "50929e37",
   "metadata": {},
   "source": [
    "### 표준 편차 비교"
   ]
  },
  {
   "cell_type": "code",
   "execution_count": 71,
   "id": "f438f097",
   "metadata": {},
   "outputs": [],
   "source": [
    "# sd의 비교\n",
    "import numpy as np\n",
    "import matplotlib.pyplot as plt\n",
    "\n",
    "# 평균과 표준편차 설정\n",
    "mu = 100    # 모집단의 평균\n",
    "sd1 = 10\n",
    "sd2 = 50\n",
    "\n",
    "# 정규분포 데이터 생성\n",
    "data1 = np.random.normal(mu, sd1, 10000)\n",
    "data2 = np.random.normal(mu, sd2, 10000)"
   ]
  },
  {
   "cell_type": "code",
   "execution_count": 73,
   "id": "5d3b2d89",
   "metadata": {},
   "outputs": [
    {
     "data": {
      "text/plain": [
       "array([  1,  11,  21,  31,  41,  51,  61,  71,  81,  91, 101, 111, 121,\n",
       "       131, 141, 151, 161, 171, 181, 191, 201, 211, 221, 231])"
      ]
     },
     "execution_count": 73,
     "metadata": {},
     "output_type": "execute_result"
    }
   ],
   "source": [
    "bins = np.arange(1, 240, 10)\n",
    "bins"
   ]
  },
  {
   "cell_type": "code",
   "execution_count": 96,
   "id": "7ecb315b",
   "metadata": {},
   "outputs": [
    {
     "data": {
      "text/plain": [
       "<matplotlib.lines.Line2D at 0x223d56fa300>"
      ]
     },
     "execution_count": 96,
     "metadata": {},
     "output_type": "execute_result"
    },
    {
     "data": {
      "image/png": "[encoded data removed]",
      "text/plain": [
       "<Figure size 640x480 with 1 Axes>"
      ]
     },
     "metadata": {},
     "output_type": "display_data"
    }
   ],
   "source": [
    "plt.hist(data1, bins=bins, color='#F6C6EA', alpha=0.5)\n",
    "plt.hist(data2, bins=bins, color='#A0E7E5', alpha=0.5)\n",
    "\n",
    "# 평균선 표시\n",
    "plt.axvline(mu, color='#FFB703', linestyle='--')"
   ]
  },
  {
   "cell_type": "code",
   "execution_count": 83,
   "id": "c4e856ea",
   "metadata": {},
   "outputs": [
    {
     "data": {
      "text/plain": [
       "Index(['sepal_length', 'sepal_width', 'petal_length', 'petal_width',\n",
       "       'species'],\n",
       "      dtype='object')"
      ]
     },
     "execution_count": 83,
     "metadata": {},
     "output_type": "execute_result"
    }
   ],
   "source": [
    "# iris dataset의 속성들의 표준편차 비교분석\n",
    "vp_df.columns"
   ]
  },
  {
   "cell_type": "code",
   "execution_count": 126,
   "id": "6d6efb7f",
   "metadata": {},
   "outputs": [
    {
     "data": {
      "image/png": "[encoded data removed]",
      "text/plain": [
       "<Figure size 640x480 with 1 Axes>"
      ]
     },
     "metadata": {},
     "output_type": "display_data"
    }
   ],
   "source": [
    "sl_avg = vp_df['sepal_length'].mean()\n",
    "sl_std = vp_df['sepal_length'].std()\n",
    "sl_data = np.random.normal(sl_avg, sl_std, 10000)\n",
    "plt.hist(sl_data, bins=30, color='#A0E7E5', alpha=0.5, label='sepal_length')\n",
    "plt.axvline(sl_avg, linestyle='--', color='k')\n",
    "plt.legend()\n",
    "\n",
    "sw_avg = vp_df['sepal_width'].mean()\n",
    "sw_std = vp_df['sepal_width'].std()\n",
    "sw_data = np.random.normal(sw_avg, sw_std, 10000)\n",
    "plt.hist(sw_data, bins=30, color='#FFB347', alpha=0.5, label='sepal_width')\n",
    "plt.axvline(sw_avg, linestyle='--', color='k')\n",
    "plt.legend()\n",
    "\n",
    "pl_avg = vp_df['petal_length'].mean()\n",
    "pl_std = vp_df['petal_length'].std()\n",
    "pl_data = np.random.normal(pl_avg, pl_std, 10000)\n",
    "plt.hist(pl_data, bins=30, color='#77DD77', alpha=0.5, label='petal_length')\n",
    "plt.axvline(pl_avg, linestyle='--', color='k')\n",
    "plt.legend()\n",
    "\n",
    "pw_avg = vp_df['petal_width'].mean()\n",
    "pw_std = vp_df['petal_width'].std()\n",
    "pw_data = np.random.normal(pw_avg, pw_std, 10000)\n",
    "plt.hist(pw_data, bins=30, color='#CBAACB', alpha=0.5, label='petal_width')\n",
    "plt.axvline(pw_avg, linestyle='--', color='k')\n",
    "plt.legend()\n",
    "\n",
    "plt.tight_layout()"
   ]
  },
  {
   "cell_type": "markdown",
   "id": "c8e6cc55",
   "metadata": {},
   "source": [
    "## 사분위범위"
   ]
  },
  {
   "cell_type": "code",
   "execution_count": 125,
   "id": "5e4a6ead",
   "metadata": {},
   "outputs": [
    {
     "data": {
      "text/html": [
       "<div>\n",
       "<style scoped>\n",
       "    .dataframe tbody tr th:only-of-type {\n",
       "        vertical-align: middle;\n",
       "    }\n",
       "\n",
       "    .dataframe tbody tr th {\n",
       "        vertical-align: top;\n",
       "    }\n",
       "\n",
       "    .dataframe thead th {\n",
       "        text-align: right;\n",
       "    }\n",
       "</style>\n",
       "<table border=\"1\" class=\"dataframe\">\n",
       "  <thead>\n",
       "    <tr style=\"text-align: right;\">\n",
       "      <th></th>\n",
       "      <th>Q1</th>\n",
       "      <th>Q3</th>\n",
       "      <th>IQR</th>\n",
       "    </tr>\n",
       "  </thead>\n",
       "  <tbody>\n",
       "    <tr>\n",
       "      <th>sepal_length</th>\n",
       "      <td>5.1</td>\n",
       "      <td>6.4</td>\n",
       "      <td>1.3</td>\n",
       "    </tr>\n",
       "    <tr>\n",
       "      <th>sepal_width</th>\n",
       "      <td>2.8</td>\n",
       "      <td>3.3</td>\n",
       "      <td>0.5</td>\n",
       "    </tr>\n",
       "    <tr>\n",
       "      <th>petal_length</th>\n",
       "      <td>1.6</td>\n",
       "      <td>5.1</td>\n",
       "      <td>3.5</td>\n",
       "    </tr>\n",
       "    <tr>\n",
       "      <th>petal_width</th>\n",
       "      <td>0.3</td>\n",
       "      <td>1.8</td>\n",
       "      <td>1.5</td>\n",
       "    </tr>\n",
       "  </tbody>\n",
       "</table>\n",
       "</div>"
      ],
      "text/plain": [
       "               Q1   Q3  IQR\n",
       "sepal_length  5.1  6.4  1.3\n",
       "sepal_width   2.8  3.3  0.5\n",
       "petal_length  1.6  5.1  3.5\n",
       "petal_width   0.3  1.8  1.5"
      ]
     },
     "execution_count": 125,
     "metadata": {},
     "output_type": "execute_result"
    }
   ],
   "source": [
    "numeric_df = vp_df.select_dtypes(include=['float64', 'int'])\n",
    "\n",
    "Q1 = numeric_df.quantile(0.25)\n",
    "Q3 = numeric_df.quantile(0.75)\n",
    "\n",
    "IQR = Q3 - Q1\n",
    "\n",
    "summ = pd.DataFrame({'Q1': Q1,\n",
    "                    'Q3': Q3,\n",
    "                    'IQR': IQR})\n",
    "\n",
    "summ"
   ]
  },
  {
   "cell_type": "markdown",
   "id": "498d0e04",
   "metadata": {},
   "source": [
    "가장 분산이 큰 변수: petal_length   \n",
    "가장 분산이 작은 변수: sepal_width   \n",
    "품종을 분류할 때, petal_length가 민감하게 작용할 것이다   \n",
    "-> 식별력이 크다   \n",
    "\n",
    "** IQR의 크기 -> 이상치의 허용범위가 크다"
   ]
  },
  {
   "cell_type": "markdown",
   "id": "26f212d5",
   "metadata": {},
   "source": [
    "# 분포의 모양과 형태\n",
    "\n",
    "- 모양이 정규분포인지\n",
    "- 치우쳐져 있는지 (좌, 우, 위, 아래)\n",
    "- 특이한 패턴이 있는지 (쌍봉패턴)"
   ]
  },
  {
   "cell_type": "code",
   "execution_count": 139,
   "id": "211effe4",
   "metadata": {},
   "outputs": [
    {
     "data": {
      "text/html": [
       "<div>\n",
       "<style scoped>\n",
       "    .dataframe tbody tr th:only-of-type {\n",
       "        vertical-align: middle;\n",
       "    }\n",
       "\n",
       "    .dataframe tbody tr th {\n",
       "        vertical-align: top;\n",
       "    }\n",
       "\n",
       "    .dataframe thead th {\n",
       "        text-align: right;\n",
       "    }\n",
       "</style>\n",
       "<table border=\"1\" class=\"dataframe\">\n",
       "  <thead>\n",
       "    <tr style=\"text-align: right;\">\n",
       "      <th></th>\n",
       "      <th>A</th>\n",
       "      <th>B</th>\n",
       "      <th>C</th>\n",
       "      <th>D</th>\n",
       "      <th>E</th>\n",
       "    </tr>\n",
       "  </thead>\n",
       "  <tbody>\n",
       "    <tr>\n",
       "      <th>0</th>\n",
       "      <td>47</td>\n",
       "      <td>10</td>\n",
       "      <td>31</td>\n",
       "      <td>25</td>\n",
       "      <td>20</td>\n",
       "    </tr>\n",
       "    <tr>\n",
       "      <th>1</th>\n",
       "      <td>2</td>\n",
       "      <td>11</td>\n",
       "      <td>31</td>\n",
       "      <td>25</td>\n",
       "      <td>21</td>\n",
       "    </tr>\n",
       "    <tr>\n",
       "      <th>2</th>\n",
       "      <td>44</td>\n",
       "      <td>14</td>\n",
       "      <td>15</td>\n",
       "      <td>26</td>\n",
       "      <td>21</td>\n",
       "    </tr>\n",
       "    <tr>\n",
       "      <th>3</th>\n",
       "      <td>41</td>\n",
       "      <td>14</td>\n",
       "      <td>16</td>\n",
       "      <td>26</td>\n",
       "      <td>21</td>\n",
       "    </tr>\n",
       "    <tr>\n",
       "      <th>4</th>\n",
       "      <td>7</td>\n",
       "      <td>30</td>\n",
       "      <td>17</td>\n",
       "      <td>27</td>\n",
       "      <td>24</td>\n",
       "    </tr>\n",
       "    <tr>\n",
       "      <th>5</th>\n",
       "      <td>6</td>\n",
       "      <td>30</td>\n",
       "      <td>16</td>\n",
       "      <td>29</td>\n",
       "      <td>24</td>\n",
       "    </tr>\n",
       "    <tr>\n",
       "      <th>6</th>\n",
       "      <td>35</td>\n",
       "      <td>32</td>\n",
       "      <td>15</td>\n",
       "      <td>29</td>\n",
       "      <td>23</td>\n",
       "    </tr>\n",
       "    <tr>\n",
       "      <th>7</th>\n",
       "      <td>38</td>\n",
       "      <td>33</td>\n",
       "      <td>19</td>\n",
       "      <td>28</td>\n",
       "      <td>20</td>\n",
       "    </tr>\n",
       "    <tr>\n",
       "      <th>8</th>\n",
       "      <td>35</td>\n",
       "      <td>34</td>\n",
       "      <td>18</td>\n",
       "      <td>29</td>\n",
       "      <td>21</td>\n",
       "    </tr>\n",
       "    <tr>\n",
       "      <th>9</th>\n",
       "      <td>36</td>\n",
       "      <td>32</td>\n",
       "      <td>16</td>\n",
       "      <td>27</td>\n",
       "      <td>20</td>\n",
       "    </tr>\n",
       "  </tbody>\n",
       "</table>\n",
       "</div>"
      ],
      "text/plain": [
       "    A   B   C   D   E\n",
       "0  47  10  31  25  20\n",
       "1   2  11  31  25  21\n",
       "2  44  14  15  26  21\n",
       "3  41  14  16  26  21\n",
       "4   7  30  17  27  24\n",
       "5   6  30  16  29  24\n",
       "6  35  32  15  29  23\n",
       "7  38  33  19  28  20\n",
       "8  35  34  18  29  21\n",
       "9  36  32  16  27  20"
      ]
     },
     "execution_count": 139,
     "metadata": {},
     "output_type": "execute_result"
    }
   ],
   "source": [
    "# 빈도분포표\n",
    "\n",
    "# 데이터 입력\n",
    "data = [\n",
    "    [47, 10, 31, 25, 20],\n",
    "    [2, 11, 31, 25, 21],\n",
    "    [44, 14, 15, 26, 21],\n",
    "    [41, 14, 16, 26, 21],\n",
    "    [7, 30, 17, 27, 24],\n",
    "    [6, 30, 16, 29, 24],\n",
    "    [35, 32, 15, 29, 23],\n",
    "    [38, 33, 19, 28, 20],\n",
    "    [35, 34, 18, 29, 21],\n",
    "    [36, 32, 16, 27, 20],\n",
    "]\n",
    "\n",
    "# DataFrame으로 변환\n",
    "df = pd.DataFrame(data, columns=['A', 'B', 'C', 'D', 'E'])\n",
    "df"
   ]
  },
  {
   "cell_type": "markdown",
   "id": "02d851d8",
   "metadata": {},
   "source": [
    "- 각 변수의 분포 형태 : 5개의 변수\n",
    "- 값의 범위, 도수가 많은 구간 (count) 빈도\n",
    "- 이상치 유무"
   ]
  },
  {
   "cell_type": "code",
   "execution_count": 140,
   "id": "baf77499",
   "metadata": {},
   "outputs": [
    {
     "data": {
      "image/png": "[encoded data removed]",
      "text/plain": [
       "<Figure size 640x480 with 5 Axes>"
      ]
     },
     "metadata": {},
     "output_type": "display_data"
    }
   ],
   "source": [
    "# 각 속성별 히스토그램\n",
    "for i, col in enumerate(df.columns):\n",
    "    plt.subplot(1, 5, i + 1)\n",
    "    plt.hist(df[col])\n",
    "    plt.tight_layout()"
   ]
  },
  {
   "cell_type": "code",
   "execution_count": 141,
   "id": "3ec1c07d",
   "metadata": {},
   "outputs": [
    {
     "name": "stdout",
     "output_type": "stream",
     "text": [
      "[-1.20858977 -1.72253932  0.04612341 -1.44440419 -1.05185185]\n"
     ]
    }
   ],
   "source": [
    "# 첨도 (Kurtosis) : 분포의 뾰족함과 꼬리의 두꺼움을 측정하는 지표\n",
    "\n",
    "from scipy.stats import kurtosis\n",
    "\n",
    "kurtosis_value = kurtosis(data)\n",
    "print(kurtosis_value)"
   ]
  },
  {
   "cell_type": "markdown",
   "id": "799bf0f1",
   "metadata": {},
   "source": [
    "0 : 정규분포   \n",
    "양수첨도 : 정규분포보다 그만큼 뾰족하다 -> 꼬리가 두껍다 (길다)   \n",
    "음수첨도 : 정규분포보다 그만큼 눌려있다. -> 꼬리가 얇다 (짧다) => 변동성 크고, 이상치 적음"
   ]
  },
  {
   "cell_type": "code",
   "execution_count": 143,
   "id": "63264ea0",
   "metadata": {},
   "outputs": [
    {
     "data": {
      "text/plain": [
       "Index(['sepal_length', 'sepal_width', 'petal_length', 'petal_width',\n",
       "       'species'],\n",
       "      dtype='object')"
      ]
     },
     "execution_count": 143,
     "metadata": {},
     "output_type": "execute_result"
    }
   ],
   "source": [
    "# iris data로 첨도 계산\n",
    "vp_df.columns"
   ]
  },
  {
   "cell_type": "code",
   "execution_count": 154,
   "id": "c52fbb47",
   "metadata": {},
   "outputs": [
    {
     "data": {
      "image/png": "[encoded data removed]",
      "text/plain": [
       "<Figure size 640x480 with 1 Axes>"
      ]
     },
     "metadata": {},
     "output_type": "display_data"
    }
   ],
   "source": [
    "for i in vp_df.select_dtypes(include='number').columns:\n",
    "    plt.hist(vp_df[i], bins=20, alpha=0.5)"
   ]
  },
  {
   "cell_type": "markdown",
   "id": "97ae139b",
   "metadata": {},
   "source": [
    "양의 첨도 > 3 => 정규분포보다 뾰족하고 꼬리가 두꺼워 극단적인 값이 더 많다.   \n",
    "음의 첨도 < 3 => 정규분포보다 평평하고 꼬리가 얇아서 극단적인 값이 덜 발생한다."
   ]
  },
  {
   "cell_type": "code",
   "execution_count": 148,
   "id": "bbceaf1f",
   "metadata": {},
   "outputs": [
    {
     "name": "stdout",
     "output_type": "stream",
     "text": [
      "sepal_length : -0.5735679489249765\n",
      "sepal_width : 0.18097631752246768\n",
      "petal_length : -1.3955358863990055\n",
      "petal_width : -1.336067405231553\n"
     ]
    }
   ],
   "source": [
    "for i in vp_df.select_dtypes(include='number').columns:\n",
    "    print(f'{i} : {kurtosis(vp_df[i])}')"
   ]
  },
  {
   "cell_type": "code",
   "execution_count": null,
   "id": "8571b115",
   "metadata": {},
   "outputs": [
    {
     "name": "stdout",
     "output_type": "stream",
     "text": [
      "[-0.72046984 -0.40821492  1.35807014  0.0034628   0.71111111]\n"
     ]
    }
   ],
   "source": [
    "# 왜도 (Skewness) : 분포의 비대칭성을 측정하는 지표, 데이터가 좌우 어느 방향으로 치우쳐 있는지 측정\n",
    "\n",
    "from scipy.stats import skew\n",
    "\n",
    "skew_value = skew(data)\n",
    "print(skew_value)  # 양수(오른쪽 꼬리)"
   ]
  },
  {
   "cell_type": "code",
   "execution_count": 155,
   "id": "8fa79ae0",
   "metadata": {},
   "outputs": [
    {
     "name": "stdout",
     "output_type": "stream",
     "text": [
      "sepal_length : 0.3117530585022963\n",
      "sepal_width : 0.31576710633893473\n",
      "petal_length : -0.2721276664567214\n",
      "petal_width : -0.10193420656560036\n"
     ]
    }
   ],
   "source": [
    "for i in vp_df.select_dtypes(include='number').columns:\n",
    "    print(f'{i} : {skew(vp_df[i])}')"
   ]
  },
  {
   "cell_type": "code",
   "execution_count": null,
   "id": "5ada4d0a",
   "metadata": {},
   "outputs": [],
   "source": []
  }
 ],
 "metadata": {
  "kernelspec": {
   "display_name": "hipython",
   "language": "python",
   "name": "python3"
  },
  "language_info": {
   "codemirror_mode": {
    "name": "ipython",
    "version": 3
   },
   "file_extension": ".py",
   "mimetype": "text/x-python",
   "name": "python",
   "nbconvert_exporter": "python",
   "pygments_lexer": "ipython3",
   "version": "3.12.9"
  }
 },
 "nbformat": 4,
 "nbformat_minor": 5
}
