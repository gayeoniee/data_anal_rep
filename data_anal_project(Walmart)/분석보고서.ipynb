{
 "cells": [
  {
   "cell_type": "code",
   "execution_count": 2,
   "id": "51ac5a59",
   "metadata": {},
   "outputs": [],
   "source": [
    "import warnings\n",
    "warnings.filterwarnings('ignore')"
   ]
  },
  {
   "cell_type": "code",
   "execution_count": 3,
   "id": "3c162d94",
   "metadata": {},
   "outputs": [],
   "source": [
    "import pandas as pd\n",
    "import matplotlib.pyplot as plt\n",
    "import seaborn as sns\n",
    "import numpy as np"
   ]
  },
  {
   "cell_type": "code",
   "execution_count": 4,
   "id": "84a61283",
   "metadata": {},
   "outputs": [],
   "source": [
    "from matplotlib import rcParams\n",
    "rcParams['font.family'] = 'Gulim'\n",
    "rcParams['axes.unicode_minus'] = False"
   ]
  },
  {
   "cell_type": "code",
   "execution_count": 17,
   "id": "e82ae4b8",
   "metadata": {},
   "outputs": [
    {
     "data": {
      "text/html": [
       "<div>\n",
       "<style scoped>\n",
       "    .dataframe tbody tr th:only-of-type {\n",
       "        vertical-align: middle;\n",
       "    }\n",
       "\n",
       "    .dataframe tbody tr th {\n",
       "        vertical-align: top;\n",
       "    }\n",
       "\n",
       "    .dataframe thead th {\n",
       "        text-align: right;\n",
       "    }\n",
       "</style>\n",
       "<table border=\"1\" class=\"dataframe\">\n",
       "  <thead>\n",
       "    <tr style=\"text-align: right;\">\n",
       "      <th></th>\n",
       "      <th>User_ID</th>\n",
       "      <th>Product_ID</th>\n",
       "      <th>Gender</th>\n",
       "      <th>Age</th>\n",
       "      <th>Occupation</th>\n",
       "      <th>City_Category</th>\n",
       "      <th>Stay_In_Current_City_Years</th>\n",
       "      <th>Marital_Status</th>\n",
       "      <th>Product_Category</th>\n",
       "      <th>Purchase</th>\n",
       "    </tr>\n",
       "  </thead>\n",
       "  <tbody>\n",
       "    <tr>\n",
       "      <th>0</th>\n",
       "      <td>1000001</td>\n",
       "      <td>P00069042</td>\n",
       "      <td>F</td>\n",
       "      <td>0-17</td>\n",
       "      <td>10</td>\n",
       "      <td>A</td>\n",
       "      <td>2</td>\n",
       "      <td>0</td>\n",
       "      <td>3</td>\n",
       "      <td>8370</td>\n",
       "    </tr>\n",
       "    <tr>\n",
       "      <th>1</th>\n",
       "      <td>1000001</td>\n",
       "      <td>P00248942</td>\n",
       "      <td>F</td>\n",
       "      <td>0-17</td>\n",
       "      <td>10</td>\n",
       "      <td>A</td>\n",
       "      <td>2</td>\n",
       "      <td>0</td>\n",
       "      <td>1</td>\n",
       "      <td>15200</td>\n",
       "    </tr>\n",
       "    <tr>\n",
       "      <th>2</th>\n",
       "      <td>1000001</td>\n",
       "      <td>P00087842</td>\n",
       "      <td>F</td>\n",
       "      <td>0-17</td>\n",
       "      <td>10</td>\n",
       "      <td>A</td>\n",
       "      <td>2</td>\n",
       "      <td>0</td>\n",
       "      <td>12</td>\n",
       "      <td>1422</td>\n",
       "    </tr>\n",
       "    <tr>\n",
       "      <th>3</th>\n",
       "      <td>1000001</td>\n",
       "      <td>P00085442</td>\n",
       "      <td>F</td>\n",
       "      <td>0-17</td>\n",
       "      <td>10</td>\n",
       "      <td>A</td>\n",
       "      <td>2</td>\n",
       "      <td>0</td>\n",
       "      <td>12</td>\n",
       "      <td>1057</td>\n",
       "    </tr>\n",
       "    <tr>\n",
       "      <th>4</th>\n",
       "      <td>1000002</td>\n",
       "      <td>P00285442</td>\n",
       "      <td>M</td>\n",
       "      <td>55+</td>\n",
       "      <td>16</td>\n",
       "      <td>C</td>\n",
       "      <td>4+</td>\n",
       "      <td>0</td>\n",
       "      <td>8</td>\n",
       "      <td>7969</td>\n",
       "    </tr>\n",
       "    <tr>\n",
       "      <th>5</th>\n",
       "      <td>1000003</td>\n",
       "      <td>P00193542</td>\n",
       "      <td>M</td>\n",
       "      <td>26-35</td>\n",
       "      <td>15</td>\n",
       "      <td>A</td>\n",
       "      <td>3</td>\n",
       "      <td>0</td>\n",
       "      <td>1</td>\n",
       "      <td>15227</td>\n",
       "    </tr>\n",
       "    <tr>\n",
       "      <th>6</th>\n",
       "      <td>1000004</td>\n",
       "      <td>P00184942</td>\n",
       "      <td>M</td>\n",
       "      <td>46-50</td>\n",
       "      <td>7</td>\n",
       "      <td>B</td>\n",
       "      <td>2</td>\n",
       "      <td>1</td>\n",
       "      <td>1</td>\n",
       "      <td>19215</td>\n",
       "    </tr>\n",
       "    <tr>\n",
       "      <th>7</th>\n",
       "      <td>1000004</td>\n",
       "      <td>P00346142</td>\n",
       "      <td>M</td>\n",
       "      <td>46-50</td>\n",
       "      <td>7</td>\n",
       "      <td>B</td>\n",
       "      <td>2</td>\n",
       "      <td>1</td>\n",
       "      <td>1</td>\n",
       "      <td>15854</td>\n",
       "    </tr>\n",
       "    <tr>\n",
       "      <th>8</th>\n",
       "      <td>1000004</td>\n",
       "      <td>P0097242</td>\n",
       "      <td>M</td>\n",
       "      <td>46-50</td>\n",
       "      <td>7</td>\n",
       "      <td>B</td>\n",
       "      <td>2</td>\n",
       "      <td>1</td>\n",
       "      <td>1</td>\n",
       "      <td>15686</td>\n",
       "    </tr>\n",
       "    <tr>\n",
       "      <th>9</th>\n",
       "      <td>1000005</td>\n",
       "      <td>P00274942</td>\n",
       "      <td>M</td>\n",
       "      <td>26-35</td>\n",
       "      <td>20</td>\n",
       "      <td>A</td>\n",
       "      <td>1</td>\n",
       "      <td>1</td>\n",
       "      <td>8</td>\n",
       "      <td>7871</td>\n",
       "    </tr>\n",
       "  </tbody>\n",
       "</table>\n",
       "</div>"
      ],
      "text/plain": [
       "   User_ID Product_ID Gender    Age  Occupation City_Category  \\\n",
       "0  1000001  P00069042      F   0-17          10             A   \n",
       "1  1000001  P00248942      F   0-17          10             A   \n",
       "2  1000001  P00087842      F   0-17          10             A   \n",
       "3  1000001  P00085442      F   0-17          10             A   \n",
       "4  1000002  P00285442      M    55+          16             C   \n",
       "5  1000003  P00193542      M  26-35          15             A   \n",
       "6  1000004  P00184942      M  46-50           7             B   \n",
       "7  1000004  P00346142      M  46-50           7             B   \n",
       "8  1000004   P0097242      M  46-50           7             B   \n",
       "9  1000005  P00274942      M  26-35          20             A   \n",
       "\n",
       "  Stay_In_Current_City_Years  Marital_Status  Product_Category  Purchase  \n",
       "0                          2               0                 3      8370  \n",
       "1                          2               0                 1     15200  \n",
       "2                          2               0                12      1422  \n",
       "3                          2               0                12      1057  \n",
       "4                         4+               0                 8      7969  \n",
       "5                          3               0                 1     15227  \n",
       "6                          2               1                 1     19215  \n",
       "7                          2               1                 1     15854  \n",
       "8                          2               1                 1     15686  \n",
       "9                          1               1                 8      7871  "
      ]
     },
     "execution_count": 17,
     "metadata": {},
     "output_type": "execute_result"
    }
   ],
   "source": [
    "df = pd.read_csv('walmart.csv')\n",
    "df.head(10)"
   ]
  },
  {
   "cell_type": "code",
   "execution_count": 6,
   "id": "b4ded1e3",
   "metadata": {},
   "outputs": [
    {
     "name": "stdout",
     "output_type": "stream",
     "text": [
      "<class 'pandas.core.frame.DataFrame'>\n",
      "RangeIndex: 550068 entries, 0 to 550067\n",
      "Data columns (total 10 columns):\n",
      " #   Column                      Non-Null Count   Dtype \n",
      "---  ------                      --------------   ----- \n",
      " 0   User_ID                     550068 non-null  int64 \n",
      " 1   Product_ID                  550068 non-null  object\n",
      " 2   Gender                      550068 non-null  object\n",
      " 3   Age                         550068 non-null  object\n",
      " 4   Occupation                  550068 non-null  int64 \n",
      " 5   City_Category               550068 non-null  object\n",
      " 6   Stay_In_Current_City_Years  550068 non-null  object\n",
      " 7   Marital_Status              550068 non-null  int64 \n",
      " 8   Product_Category            550068 non-null  int64 \n",
      " 9   Purchase                    550068 non-null  int64 \n",
      "dtypes: int64(5), object(5)\n",
      "memory usage: 42.0+ MB\n"
     ]
    }
   ],
   "source": [
    "df.info()"
   ]
  },
  {
   "cell_type": "markdown",
   "id": "d30b9c14",
   "metadata": {},
   "source": [
    "## 데이터 구조 및 변수 요약\n",
    "\n",
    "- 전체 데이터는 총 550,068행 × 10개 열로 구성되어 있으며 누락된 값은 존재하지 않음.\n",
    "- 주요 변수 유형은 다음과 같음:\n",
    "  - 범주형: Gender, Age, City_Category, Stay_In_Current_City_Years, Marital_Status\n",
    "  - 수치형: Purchase, Occupation, Product_Category\n",
    "  - 식별자: User_ID, Product_ID"
   ]
  },
  {
   "cell_type": "markdown",
   "id": "d2fa21fc",
   "metadata": {},
   "source": [
    "분석을 시작하기에 앞서 전체 고객의 구매 금액 분포를 확인해 소비 규모의 전반적인 특성과 이상값 여부를 점검하였다."
   ]
  },
  {
   "cell_type": "code",
   "execution_count": 18,
   "id": "3c09ca46",
   "metadata": {},
   "outputs": [
    {
     "data": {
      "text/html": [
       "<div>\n",
       "<style scoped>\n",
       "    .dataframe tbody tr th:only-of-type {\n",
       "        vertical-align: middle;\n",
       "    }\n",
       "\n",
       "    .dataframe tbody tr th {\n",
       "        vertical-align: top;\n",
       "    }\n",
       "\n",
       "    .dataframe thead th {\n",
       "        text-align: right;\n",
       "    }\n",
       "</style>\n",
       "<table border=\"1\" class=\"dataframe\">\n",
       "  <thead>\n",
       "    <tr style=\"text-align: right;\">\n",
       "      <th></th>\n",
       "      <th>User_ID</th>\n",
       "      <th>Occupation</th>\n",
       "      <th>Marital_Status</th>\n",
       "      <th>Product_Category</th>\n",
       "      <th>Purchase</th>\n",
       "    </tr>\n",
       "  </thead>\n",
       "  <tbody>\n",
       "    <tr>\n",
       "      <th>count</th>\n",
       "      <td>5.500680e+05</td>\n",
       "      <td>550068.000000</td>\n",
       "      <td>550068.000000</td>\n",
       "      <td>550068.000000</td>\n",
       "      <td>550068.000000</td>\n",
       "    </tr>\n",
       "    <tr>\n",
       "      <th>mean</th>\n",
       "      <td>1.003029e+06</td>\n",
       "      <td>8.076707</td>\n",
       "      <td>0.409653</td>\n",
       "      <td>5.404270</td>\n",
       "      <td>9263.968713</td>\n",
       "    </tr>\n",
       "    <tr>\n",
       "      <th>std</th>\n",
       "      <td>1.727592e+03</td>\n",
       "      <td>6.522660</td>\n",
       "      <td>0.491770</td>\n",
       "      <td>3.936211</td>\n",
       "      <td>5023.065394</td>\n",
       "    </tr>\n",
       "    <tr>\n",
       "      <th>min</th>\n",
       "      <td>1.000001e+06</td>\n",
       "      <td>0.000000</td>\n",
       "      <td>0.000000</td>\n",
       "      <td>1.000000</td>\n",
       "      <td>12.000000</td>\n",
       "    </tr>\n",
       "    <tr>\n",
       "      <th>25%</th>\n",
       "      <td>1.001516e+06</td>\n",
       "      <td>2.000000</td>\n",
       "      <td>0.000000</td>\n",
       "      <td>1.000000</td>\n",
       "      <td>5823.000000</td>\n",
       "    </tr>\n",
       "    <tr>\n",
       "      <th>50%</th>\n",
       "      <td>1.003077e+06</td>\n",
       "      <td>7.000000</td>\n",
       "      <td>0.000000</td>\n",
       "      <td>5.000000</td>\n",
       "      <td>8047.000000</td>\n",
       "    </tr>\n",
       "    <tr>\n",
       "      <th>75%</th>\n",
       "      <td>1.004478e+06</td>\n",
       "      <td>14.000000</td>\n",
       "      <td>1.000000</td>\n",
       "      <td>8.000000</td>\n",
       "      <td>12054.000000</td>\n",
       "    </tr>\n",
       "    <tr>\n",
       "      <th>max</th>\n",
       "      <td>1.006040e+06</td>\n",
       "      <td>20.000000</td>\n",
       "      <td>1.000000</td>\n",
       "      <td>20.000000</td>\n",
       "      <td>23961.000000</td>\n",
       "    </tr>\n",
       "  </tbody>\n",
       "</table>\n",
       "</div>"
      ],
      "text/plain": [
       "            User_ID     Occupation  Marital_Status  Product_Category  \\\n",
       "count  5.500680e+05  550068.000000   550068.000000     550068.000000   \n",
       "mean   1.003029e+06       8.076707        0.409653          5.404270   \n",
       "std    1.727592e+03       6.522660        0.491770          3.936211   \n",
       "min    1.000001e+06       0.000000        0.000000          1.000000   \n",
       "25%    1.001516e+06       2.000000        0.000000          1.000000   \n",
       "50%    1.003077e+06       7.000000        0.000000          5.000000   \n",
       "75%    1.004478e+06      14.000000        1.000000          8.000000   \n",
       "max    1.006040e+06      20.000000        1.000000         20.000000   \n",
       "\n",
       "            Purchase  \n",
       "count  550068.000000  \n",
       "mean     9263.968713  \n",
       "std      5023.065394  \n",
       "min        12.000000  \n",
       "25%      5823.000000  \n",
       "50%      8047.000000  \n",
       "75%     12054.000000  \n",
       "max     23961.000000  "
      ]
     },
     "execution_count": 18,
     "metadata": {},
     "output_type": "execute_result"
    }
   ],
   "source": [
    "df.describe()"
   ]
  },
  {
   "cell_type": "markdown",
   "id": "caa0aea9",
   "metadata": {},
   "source": [
    "- 전체 수치형 변수 중 핵심 분석 대상은 Purchase (구매 금액) 변수.\n",
    "- 평균 구매 금액은 약 9270이며 중앙값은 약 8047로 평균보다 낮아 상위 금액에 치우친 분포로 판단.\n",
    "- 최댓값은 23961로 일부 고객은 매우 고가의 상품을 구매한 것으로 보임.\n",
    "- 제1사분위수(Q1)는 5823, 제3사분위수(Q3)는 12054로 대부분의 고객이 약 6천~1만 2천 사이 금액을 지출한 것으로 해석."
   ]
  },
  {
   "cell_type": "code",
   "execution_count": 60,
   "id": "721a9272",
   "metadata": {},
   "outputs": [
    {
     "data": {
      "image/png": "[encoded data removed]",
      "text/plain": [
       "<Figure size 640x480 with 1 Axes>"
      ]
     },
     "metadata": {},
     "output_type": "display_data"
    }
   ],
   "source": [
    "plt.figure()\n",
    "sns.boxplot(x=df['Purchase'], color='skyblue')\n",
    "plt.title('구매 금액 분포')\n",
    "plt.xlabel('구매 금액')\n",
    "plt.tight_layout()\n",
    "plt.show()"
   ]
  },
  {
   "cell_type": "markdown",
   "id": "ac181931",
   "metadata": {},
   "source": [
    "일부 고객은 20,000원 이상 고액 상품을 구매한 것으로 나타났다.    \n",
    "중앙값은 약 8,000원 선이며 다수 고객은 5,000원~15,000원 사이에서 구매 활동을 하는 것으로 보인다."
   ]
  },
  {
   "cell_type": "code",
   "execution_count": 8,
   "id": "1d4c3ad6",
   "metadata": {},
   "outputs": [
    {
     "data": {
      "text/plain": [
       "Index(['User_ID', 'Product_ID', 'Gender', 'Age', 'Occupation', 'City_Category',\n",
       "       'Stay_In_Current_City_Years', 'Marital_Status', 'Product_Category',\n",
       "       'Purchase'],\n",
       "      dtype='object')"
      ]
     },
     "execution_count": 8,
     "metadata": {},
     "output_type": "execute_result"
    }
   ],
   "source": [
    "df.columns"
   ]
  },
  {
   "cell_type": "markdown",
   "id": "7127a41e",
   "metadata": {},
   "source": [
    "| 변수명                          | 변수 타입          | 설명            | 비고                    |\n",
    "| ---------------------------- | -------------- | ------------- | --------------------- |\n",
    "| `User_ID`                    | 범주형            | 고객 ID       | 고객별 그룹 분석에 사용         |\n",
    "| `Product_ID`                 | 범주형            | 상품 ID       | 상품별 구매 분석 가능          |\n",
    "| `Gender`                     | 범주형            | 성별            | 이진               |\n",
    "| `Age`                        | 범주형            | 연령 구간         | 구간 ('26-35'), 55+ 등 문자열  |\n",
    "| `Occupation`                 | 범주형 | 직업 코드         | 값은 숫자지만 범주형으로 간주 (연산의미 x)|\n",
    "| `City_Category`              | 범주형            | 도시 구분 (A/B/C) |            -           |\n",
    "| `Stay_In_Current_City_Years` | 범주형            | 현재 도시 거주 기간   |  문자열이 있음   (4+)     |\n",
    "| `Marital_Status`             | 범주형            | 결혼 여부 (0/1)   |            -           |\n",
    "| `Product_Category`           | 범주형            | 상품 카테고리 코드    |          연산의미 x          |\n",
    "| `Purchase`                   | 수치형            | 구매 금액         |       -   |\n"
   ]
  },
  {
   "cell_type": "markdown",
   "id": "0673db84",
   "metadata": {},
   "source": [
    "구매한 상품 카테고리의 다양성에 주목하여 다양한 상품을 구매한 고객들의 특성을 보다 구체적으로 탐색하고자 한다."
   ]
  },
  {
   "cell_type": "code",
   "execution_count": 9,
   "id": "7c50b1de",
   "metadata": {},
   "outputs": [
    {
     "data": {
      "text/plain": [
       "count    5891.000000\n",
       "mean        9.638771\n",
       "std         3.595397\n",
       "min         1.000000\n",
       "25%         7.000000\n",
       "50%         9.000000\n",
       "75%        12.000000\n",
       "max        19.000000\n",
       "Name: Product_Category, dtype: float64"
      ]
     },
     "execution_count": 9,
     "metadata": {},
     "output_type": "execute_result"
    }
   ],
   "source": [
    "# 고객별로 구매한 상품군 종류 수\n",
    "diversity = df.groupby('User_ID')['Product_Category'].nunique()\n",
    "diversity.describe()"
   ]
  },
  {
   "cell_type": "markdown",
   "id": "7b6b6d71",
   "metadata": {},
   "source": [
    "평균적으로 9.638771 개의 상품군을 구매   \n",
    "가장 다양하게 산 고객은 19개의 상품군 구매 (max)   "
   ]
  },
  {
   "cell_type": "code",
   "execution_count": 19,
   "id": "16dc776a",
   "metadata": {},
   "outputs": [
    {
     "data": {
      "image/png": "[encoded data removed]",
      "text/plain": [
       "<Figure size 640x480 with 1 Axes>"
      ]
     },
     "metadata": {},
     "output_type": "display_data"
    }
   ],
   "source": [
    "plt.figure()\n",
    "plt.hist(diversity, bins=range(1, diversity.max()+2), color='skyblue')\n",
    "plt.title('상품 다양성')\n",
    "plt.xlabel('구매한 상품의 카테고리 종류 수')\n",
    "plt.ylabel('고객 수')\n",
    "plt.xticks(range(1, diversity.max()+1))\n",
    "plt.tight_layout()\n",
    "plt.show()"
   ]
  },
  {
   "cell_type": "markdown",
   "id": "80e643b4",
   "metadata": {},
   "source": [
    "고객별로 구매한 상품 카테고리 수를 집계하여 확인한 결과:    \n",
    "대부분의 고객이 평균적으로 6~10개 정도의 다양한 상품군을 구매하고 있는 것으로 나타났다.  \n",
    "최대 19개까지의 상품군을 구매한 고객도 확인되었으며  \n",
    "이는 고객들이 특정 카테고리에만 집중하기보다는  \n",
    "다양한 제품군에 관심을 가지고 있다는 점을 보여준다.\n",
    "\n",
    "-> 상품 다양성이 높은 고객은 연관 상품 제안 기획전 추천 등 마케팅 전략의 주요 타겟이 될 수 있다.   \n",
    "(한 번에 다양한 상품을 산 건지는 모르지만 다양한 카테고리를 구매했다는 점에서 관심사 범위가 넓은 고객이라고 판단할 수 있다.)   \n",
    "한번에 샀는지는 구매일자 같은 데이터가 있다면 분석이 가능할 것 같다.   "
   ]
  },
  {
   "cell_type": "markdown",
   "id": "7022658f",
   "metadata": {},
   "source": [
    "# 분석 주제: 다양한 상품을 구매한 고객을 타겟으로 한 연관 상품 제안 전략\n",
    "\n",
    "## 분석 개요\n",
    "\n",
    "데이터를 살펴보니, 고객마다 구매한 상품 종류가 꽤 다양하다는 걸 알 수 있었다.  \n",
    "단순히 많이 산 사람보다 여러 카테고리의 상품을 구매한 사람은   \n",
    "관심사도 넓고 다른 상품에도 반응할 가능성이 높을 거라고 생각했다.  \n",
    "\n",
    "그래서 이번 분석에서는 상품군 다양성이 높은 고객들을 중심으로   \n",
    "이들이 어떤 특성을 가지고 있는지 살펴보고   \n",
    "비슷한 성향의 고객에게 어떤 상품을 추가로 제안할 수 있을지 고민해보려고 한다.   \n",
    "\n",
    "## 분석 목표\n",
    "- 고객별로 구매한 상품 카테고리 종류 수 계산 -> 다양한 상품을 산 고객 추출   \n",
    "- 이 고객들의 성별, 연령대, 직업, 도시 분포 등 특성 분석   \n",
    "- 여러 상품을 구매한 고객들이 많이 산 상품군을 바탕으로  \n",
    "  다른 고객에게도 연관 상품을 제안할 수 있는 전략 도출\n",
    "- 연관 구매 패턴을 바탕으로 묶음 상품 제안 등 실질적인 마케팅 전략 도출"
   ]
  },
  {
   "cell_type": "code",
   "execution_count": 21,
   "id": "98b691e7",
   "metadata": {},
   "outputs": [],
   "source": [
    "diverse_users = diversity[diversity >= 15].index.tolist()\n",
    "vip_df = df[df['User_ID'].isin(diverse_users)]"
   ]
  },
  {
   "cell_type": "markdown",
   "id": "7b53feea",
   "metadata": {},
   "source": [
    "15개의 상품군 이상을 구매한 고객들의 dataframe을 따로 만들기   \n",
    "-> 히스토그램과 3분위수를 보았을 때 전체 고객의 75%가 12개 이하의 상품군을 구매했음을 알 수 있고    \n",
    "    15개 이상을 구매한 고객은 상위 약 5~10% 수준에 해당한다고 보았다."
   ]
  },
  {
   "cell_type": "code",
   "execution_count": 22,
   "id": "57ddba26",
   "metadata": {},
   "outputs": [
    {
     "data": {
      "text/html": [
       "<div>\n",
       "<style scoped>\n",
       "    .dataframe tbody tr th:only-of-type {\n",
       "        vertical-align: middle;\n",
       "    }\n",
       "\n",
       "    .dataframe tbody tr th {\n",
       "        vertical-align: top;\n",
       "    }\n",
       "\n",
       "    .dataframe thead th {\n",
       "        text-align: right;\n",
       "    }\n",
       "</style>\n",
       "<table border=\"1\" class=\"dataframe\">\n",
       "  <thead>\n",
       "    <tr style=\"text-align: right;\">\n",
       "      <th></th>\n",
       "      <th>User_ID</th>\n",
       "      <th>Product_ID</th>\n",
       "      <th>Gender</th>\n",
       "      <th>Age</th>\n",
       "      <th>Occupation</th>\n",
       "      <th>City_Category</th>\n",
       "      <th>Stay_In_Current_City_Years</th>\n",
       "      <th>Marital_Status</th>\n",
       "      <th>Product_Category</th>\n",
       "      <th>Purchase</th>\n",
       "    </tr>\n",
       "  </thead>\n",
       "  <tbody>\n",
       "    <tr>\n",
       "      <th>164</th>\n",
       "      <td>1000033</td>\n",
       "      <td>P00285442</td>\n",
       "      <td>M</td>\n",
       "      <td>46-50</td>\n",
       "      <td>3</td>\n",
       "      <td>A</td>\n",
       "      <td>1</td>\n",
       "      <td>1</td>\n",
       "      <td>8</td>\n",
       "      <td>7854</td>\n",
       "    </tr>\n",
       "    <tr>\n",
       "      <th>165</th>\n",
       "      <td>1000033</td>\n",
       "      <td>P00111742</td>\n",
       "      <td>M</td>\n",
       "      <td>46-50</td>\n",
       "      <td>3</td>\n",
       "      <td>A</td>\n",
       "      <td>1</td>\n",
       "      <td>1</td>\n",
       "      <td>15</td>\n",
       "      <td>17391</td>\n",
       "    </tr>\n",
       "    <tr>\n",
       "      <th>166</th>\n",
       "      <td>1000033</td>\n",
       "      <td>P00293742</td>\n",
       "      <td>M</td>\n",
       "      <td>46-50</td>\n",
       "      <td>3</td>\n",
       "      <td>A</td>\n",
       "      <td>1</td>\n",
       "      <td>1</td>\n",
       "      <td>8</td>\n",
       "      <td>6074</td>\n",
       "    </tr>\n",
       "    <tr>\n",
       "      <th>167</th>\n",
       "      <td>1000033</td>\n",
       "      <td>P00032842</td>\n",
       "      <td>M</td>\n",
       "      <td>46-50</td>\n",
       "      <td>3</td>\n",
       "      <td>A</td>\n",
       "      <td>1</td>\n",
       "      <td>1</td>\n",
       "      <td>8</td>\n",
       "      <td>6119</td>\n",
       "    </tr>\n",
       "    <tr>\n",
       "      <th>168</th>\n",
       "      <td>1000033</td>\n",
       "      <td>P00216142</td>\n",
       "      <td>M</td>\n",
       "      <td>46-50</td>\n",
       "      <td>3</td>\n",
       "      <td>A</td>\n",
       "      <td>1</td>\n",
       "      <td>1</td>\n",
       "      <td>1</td>\n",
       "      <td>15333</td>\n",
       "    </tr>\n",
       "    <tr>\n",
       "      <th>...</th>\n",
       "      <td>...</td>\n",
       "      <td>...</td>\n",
       "      <td>...</td>\n",
       "      <td>...</td>\n",
       "      <td>...</td>\n",
       "      <td>...</td>\n",
       "      <td>...</td>\n",
       "      <td>...</td>\n",
       "      <td>...</td>\n",
       "      <td>...</td>\n",
       "    </tr>\n",
       "    <tr>\n",
       "      <th>550039</th>\n",
       "      <td>1005996</td>\n",
       "      <td>P00371644</td>\n",
       "      <td>F</td>\n",
       "      <td>26-35</td>\n",
       "      <td>0</td>\n",
       "      <td>B</td>\n",
       "      <td>1</td>\n",
       "      <td>1</td>\n",
       "      <td>20</td>\n",
       "      <td>595</td>\n",
       "    </tr>\n",
       "    <tr>\n",
       "      <th>550041</th>\n",
       "      <td>1006000</td>\n",
       "      <td>P00371644</td>\n",
       "      <td>M</td>\n",
       "      <td>46-50</td>\n",
       "      <td>17</td>\n",
       "      <td>B</td>\n",
       "      <td>2</td>\n",
       "      <td>1</td>\n",
       "      <td>20</td>\n",
       "      <td>488</td>\n",
       "    </tr>\n",
       "    <tr>\n",
       "      <th>550042</th>\n",
       "      <td>1006002</td>\n",
       "      <td>P00371644</td>\n",
       "      <td>M</td>\n",
       "      <td>51-55</td>\n",
       "      <td>0</td>\n",
       "      <td>C</td>\n",
       "      <td>1</td>\n",
       "      <td>1</td>\n",
       "      <td>20</td>\n",
       "      <td>243</td>\n",
       "    </tr>\n",
       "    <tr>\n",
       "      <th>550052</th>\n",
       "      <td>1006016</td>\n",
       "      <td>P00375436</td>\n",
       "      <td>M</td>\n",
       "      <td>46-50</td>\n",
       "      <td>1</td>\n",
       "      <td>B</td>\n",
       "      <td>1</td>\n",
       "      <td>1</td>\n",
       "      <td>20</td>\n",
       "      <td>239</td>\n",
       "    </tr>\n",
       "    <tr>\n",
       "      <th>550065</th>\n",
       "      <td>1006036</td>\n",
       "      <td>P00375436</td>\n",
       "      <td>F</td>\n",
       "      <td>26-35</td>\n",
       "      <td>15</td>\n",
       "      <td>B</td>\n",
       "      <td>4+</td>\n",
       "      <td>1</td>\n",
       "      <td>20</td>\n",
       "      <td>137</td>\n",
       "    </tr>\n",
       "  </tbody>\n",
       "</table>\n",
       "<p>200018 rows × 10 columns</p>\n",
       "</div>"
      ],
      "text/plain": [
       "        User_ID Product_ID Gender    Age  Occupation City_Category  \\\n",
       "164     1000033  P00285442      M  46-50           3             A   \n",
       "165     1000033  P00111742      M  46-50           3             A   \n",
       "166     1000033  P00293742      M  46-50           3             A   \n",
       "167     1000033  P00032842      M  46-50           3             A   \n",
       "168     1000033  P00216142      M  46-50           3             A   \n",
       "...         ...        ...    ...    ...         ...           ...   \n",
       "550039  1005996  P00371644      F  26-35           0             B   \n",
       "550041  1006000  P00371644      M  46-50          17             B   \n",
       "550042  1006002  P00371644      M  51-55           0             C   \n",
       "550052  1006016  P00375436      M  46-50           1             B   \n",
       "550065  1006036  P00375436      F  26-35          15             B   \n",
       "\n",
       "       Stay_In_Current_City_Years  Marital_Status  Product_Category  Purchase  \n",
       "164                             1               1                 8      7854  \n",
       "165                             1               1                15     17391  \n",
       "166                             1               1                 8      6074  \n",
       "167                             1               1                 8      6119  \n",
       "168                             1               1                 1     15333  \n",
       "...                           ...             ...               ...       ...  \n",
       "550039                          1               1                20       595  \n",
       "550041                          2               1                20       488  \n",
       "550042                          1               1                20       243  \n",
       "550052                          1               1                20       239  \n",
       "550065                         4+               1                20       137  \n",
       "\n",
       "[200018 rows x 10 columns]"
      ]
     },
     "execution_count": 22,
     "metadata": {},
     "output_type": "execute_result"
    }
   ],
   "source": [
    "vip_df"
   ]
  },
  {
   "cell_type": "code",
   "execution_count": 27,
   "id": "cd56692a",
   "metadata": {},
   "outputs": [
    {
     "data": {
      "text/plain": [
       "(692, 6)"
      ]
     },
     "execution_count": 27,
     "metadata": {},
     "output_type": "execute_result"
    }
   ],
   "source": [
    "new_vip_df = vip_df.drop_duplicates('User_ID')[['User_ID', 'Gender', 'Age', 'Occupation', 'City_Category', 'Marital_Status']]\n",
    "new_vip_df.shape"
   ]
  },
  {
   "cell_type": "code",
   "execution_count": 28,
   "id": "13660ed5",
   "metadata": {},
   "outputs": [
    {
     "data": {
      "text/html": [
       "<div>\n",
       "<style scoped>\n",
       "    .dataframe tbody tr th:only-of-type {\n",
       "        vertical-align: middle;\n",
       "    }\n",
       "\n",
       "    .dataframe tbody tr th {\n",
       "        vertical-align: top;\n",
       "    }\n",
       "\n",
       "    .dataframe thead th {\n",
       "        text-align: right;\n",
       "    }\n",
       "</style>\n",
       "<table border=\"1\" class=\"dataframe\">\n",
       "  <thead>\n",
       "    <tr style=\"text-align: right;\">\n",
       "      <th></th>\n",
       "      <th>User_ID</th>\n",
       "      <th>Gender</th>\n",
       "      <th>Age</th>\n",
       "      <th>Occupation</th>\n",
       "      <th>City_Category</th>\n",
       "      <th>Marital_Status</th>\n",
       "    </tr>\n",
       "  </thead>\n",
       "  <tbody>\n",
       "    <tr>\n",
       "      <th>164</th>\n",
       "      <td>1000033</td>\n",
       "      <td>M</td>\n",
       "      <td>46-50</td>\n",
       "      <td>3</td>\n",
       "      <td>A</td>\n",
       "      <td>1</td>\n",
       "    </tr>\n",
       "    <tr>\n",
       "      <th>196</th>\n",
       "      <td>1000036</td>\n",
       "      <td>M</td>\n",
       "      <td>26-35</td>\n",
       "      <td>3</td>\n",
       "      <td>B</td>\n",
       "      <td>0</td>\n",
       "    </tr>\n",
       "    <tr>\n",
       "      <th>264</th>\n",
       "      <td>1000048</td>\n",
       "      <td>M</td>\n",
       "      <td>26-35</td>\n",
       "      <td>4</td>\n",
       "      <td>B</td>\n",
       "      <td>1</td>\n",
       "    </tr>\n",
       "    <tr>\n",
       "      <th>304</th>\n",
       "      <td>1000053</td>\n",
       "      <td>M</td>\n",
       "      <td>26-35</td>\n",
       "      <td>0</td>\n",
       "      <td>B</td>\n",
       "      <td>0</td>\n",
       "    </tr>\n",
       "    <tr>\n",
       "      <th>355</th>\n",
       "      <td>1000059</td>\n",
       "      <td>F</td>\n",
       "      <td>51-55</td>\n",
       "      <td>1</td>\n",
       "      <td>B</td>\n",
       "      <td>1</td>\n",
       "    </tr>\n",
       "  </tbody>\n",
       "</table>\n",
       "</div>"
      ],
      "text/plain": [
       "     User_ID Gender    Age  Occupation City_Category  Marital_Status\n",
       "164  1000033      M  46-50           3             A               1\n",
       "196  1000036      M  26-35           3             B               0\n",
       "264  1000048      M  26-35           4             B               1\n",
       "304  1000053      M  26-35           0             B               0\n",
       "355  1000059      F  51-55           1             B               1"
      ]
     },
     "execution_count": 28,
     "metadata": {},
     "output_type": "execute_result"
    }
   ],
   "source": [
    "new_vip_df.head()"
   ]
  },
  {
   "cell_type": "code",
   "execution_count": 64,
   "id": "ba8fa309",
   "metadata": {},
   "outputs": [
    {
     "name": "stdout",
     "output_type": "stream",
     "text": [
      "상관계수: 0.73\n"
     ]
    },
    {
     "data": {
      "image/png": "[encoded data removed]",
      "text/plain": [
       "<Figure size 640x480 with 1 Axes>"
      ]
     },
     "metadata": {},
     "output_type": "display_data"
    }
   ],
   "source": [
    "# 고객별 상품 다양성 계산\n",
    "diversity = df.groupby('User_ID')['Product_Category'].nunique()\n",
    "\n",
    "# 고객별 총 구매금액 계산\n",
    "total_purchase = df.groupby('User_ID')['Purchase'].sum()\n",
    "\n",
    "# 하나의 데이터프레임으로 결합\n",
    "diversity_df = pd.DataFrame({\n",
    "    'Diversity': diversity,\n",
    "    'Total_Purchase': total_purchase\n",
    "})\n",
    "\n",
    "# 상관계수 계산\n",
    "correlation = diversity_df.corr().loc['Diversity', 'Total_Purchase']\n",
    "print(f\"상관계수: {correlation:.2f}\")\n",
    "\n",
    "\n",
    "plt.figure()\n",
    "sns.scatterplot(data=diversity_df, x='Diversity', y='Total_Purchase', alpha=0.4)\n",
    "plt.title(f'상품 다양성과 총 구매금액의 관계 (상관계수: {correlation:.2f})')\n",
    "plt.xlabel('상품군 다양성 (구매한 종류 수)')\n",
    "plt.ylabel('총 구매금액')\n",
    "plt.tight_layout()\n",
    "plt.show()"
   ]
  },
  {
   "cell_type": "markdown",
   "id": "4baba26a",
   "metadata": {},
   "source": [
    "0.7 이상은 일반적으로 강한 상관관계(strong correlation)로 분류된다.   \n",
    "이는 상품군 다양성이 클수록 구매금액도 높은 경향이 있다는 것을 의미한다.\n",
    "\n",
    "다양한 상품을 구매하는 고객일수록 구매 여력과 소비 관심이 높을 가능성을 보여주며   \n",
    "이들을 대상으로 한 맞춤 추천 및 묶음 기획전은 매출 상승과 재구매 유도에 효과적일 수 있다."
   ]
  },
  {
   "cell_type": "code",
   "execution_count": 38,
   "id": "d675a02d",
   "metadata": {},
   "outputs": [
    {
     "data": {
      "image/png": "[encoded data removed]",
      "text/plain": [
       "<Figure size 1200x700 with 5 Axes>"
      ]
     },
     "metadata": {},
     "output_type": "display_data"
    }
   ],
   "source": [
    "cols = ['Gender', 'Age', 'Occupation', 'City_Category', 'Marital_Status']\n",
    "titles = ['성별', '연령대', '직업', '도시 유형', '결혼 여부']\n",
    "\n",
    "plt.figure(figsize=(12, 7))\n",
    "\n",
    "for i, col in enumerate(cols):\n",
    "    plt.subplot(2, 3, i+1)\n",
    "    sns.countplot(data=new_vip_df, x=col, palette='pastel')\n",
    "    plt.title(f'다양성 높은 고객의 {titles[i]} 분포')\n",
    "    plt.xticks(rotation=45)\n",
    "\n",
    "plt.tight_layout()\n",
    "plt.show()\n"
   ]
  },
  {
   "cell_type": "markdown",
   "id": "7655e90b",
   "metadata": {},
   "source": [
    "## 다양성 높은 고객 특성 요약\n",
    "\n",
    "- **성별 분포**  \n",
    "  남성이 여성보다 약 3~4배가량 많았으며 다양한 상품군을 구매하는 고객 중 **대부분이 남성**이었다.\n",
    "\n",
    "- **연령대 분포**  \n",
    "  26-35세가 압도적으로 많았고 그 뒤를 36-45세와 18-25세가 이었다.  \n",
    "  전체적으로 20~40대의 연령대가 중심이었다.\n",
    "\n",
    "- **직업 분포**  \n",
    "  직업 분포는 다양한 편이지만 0, 4, 7, 20번 직업군에서 상대적으로 많은 고객이 나타났다.  \n",
    "  -> 어떤 직업군이 어떤 구매 성향을 보이는지 추가 탐색 가능성 있음.\n",
    "\n",
    "- **도시 유형**  \n",
    "  B도시 고객 비중이 가장 많았고 A, C 순으로 나타났다.  \n",
    "  -> B지역은 유통 중심지 또는 대도시 가능성이 있음.\n",
    "\n",
    "- **결혼 여부**  \n",
    "  미혼(0)의 비율이 높았지만 기혼자(1)도 일정 비중을 차지했다.  \n",
    "  -> 결혼 여부에 따라 상품군 다양성에 뚜렷한 차이는 나타나지 않았다.\n"
   ]
  },
  {
   "cell_type": "markdown",
   "id": "7bd9c273",
   "metadata": {},
   "source": [
    "## 다양성 높은 고객 데이터에서 상품군 분포 확인"
   ]
  },
  {
   "cell_type": "code",
   "execution_count": 39,
   "id": "d2c64a14",
   "metadata": {},
   "outputs": [
    {
     "data": {
      "text/plain": [
       "Product_Category\n",
       "5     54411\n",
       "8     45577\n",
       "1     44760\n",
       "11     9500\n",
       "2      8931\n",
       "6      7528\n",
       "3      6713\n",
       "4      4257\n",
       "16     4219\n",
       "15     2522\n",
       "Name: count, dtype: int64"
      ]
     },
     "execution_count": 39,
     "metadata": {},
     "output_type": "execute_result"
    }
   ],
   "source": [
    "# 다양성 높은 고객의 구매 기록 = vip_df\n",
    "# 상품 카테고리별 구매 횟수\n",
    "category_counts = vip_df['Product_Category'].value_counts().sort_values(ascending=False)\n",
    "\n",
    "top10_categories = category_counts.head(10)\n",
    "top10_categories"
   ]
  },
  {
   "cell_type": "code",
   "execution_count": 41,
   "id": "40d9f09e",
   "metadata": {},
   "outputs": [
    {
     "data": {
      "image/png": "[encoded data removed]",
      "text/plain": [
       "<Figure size 640x480 with 1 Axes>"
      ]
     },
     "metadata": {},
     "output_type": "display_data"
    }
   ],
   "source": [
    "plt.figure()\n",
    "sns.barplot(x=top10_categories.index.astype(str), y=top10_categories.values, palette='pastel')\n",
    "plt.title('다양성 높은 고객의 상품 카테고리 Top 10')\n",
    "plt.xlabel('Product_Category')\n",
    "plt.ylabel('구매 횟수')\n",
    "plt.tight_layout()\n",
    "plt.show()"
   ]
  },
  {
   "cell_type": "markdown",
   "id": "bb96560d",
   "metadata": {},
   "source": [
    "from itertools import combinations   \n",
    "여러 개의 항목 중에서 조합(combination)을 만들어주는 함수   \n",
    "각 고객이 산 상품군 중에서 2개씩 묶은 조합을 찾기 위해 사용   \n",
    "→ 어떤 상품군들이 함께 자주 구매되었는지 확인하려고!\n"
   ]
  },
  {
   "cell_type": "code",
   "execution_count": 58,
   "id": "8aa843ec",
   "metadata": {},
   "outputs": [
    {
     "data": {
      "text/plain": [
       "[((1, 5), 692),\n",
       " ((1, 6), 692),\n",
       " ((1, 8), 692),\n",
       " ((5, 6), 692),\n",
       " ((5, 8), 692),\n",
       " ((6, 8), 692),\n",
       " ((1, 2), 690),\n",
       " ((2, 5), 690),\n",
       " ((2, 6), 690),\n",
       " ((2, 8), 690)]"
      ]
     },
     "execution_count": 58,
     "metadata": {},
     "output_type": "execute_result"
    }
   ],
   "source": [
    "from itertools import combinations\n",
    "from collections import Counter\n",
    "\n",
    "# 다양성이 높은 고객들의 구매내역에서 상품군 집합 추출\n",
    "vip_sets = vip_df.groupby('User_ID')['Product_Category'].apply(lambda x: set(x))\n",
    "\n",
    "# 상품군 조합을 모두 뽑아서 카운트\n",
    "pairs = []\n",
    "for cat_set in vip_sets:\n",
    "    for pair in combinations(sorted(cat_set), 2):\n",
    "        pairs.append(pair)\n",
    "\n",
    "pair_counts = Counter(pairs)\n",
    "\n",
    "# 가장 많이 등장한 상위 상품군 조합 10개 추출\n",
    "top_pairs = pair_counts.most_common(10)\n",
    "top_pairs"
   ]
  },
  {
   "cell_type": "markdown",
   "id": "d93601b3",
   "metadata": {},
   "source": [
    "- 1번, 5번 상품군을 함께 구매한 고객 수: 692명\n",
    "- 5번, 8번 상품군도 692명\n",
    "- ...   \n",
    "\n",
    "-> 즉 1-5-8 상품군 조합이 굉장히 강하게 연결되어 있음, 연관 상품 기획에 매우 유의미한 힌트!\n",
    "\n"
   ]
  },
  {
   "cell_type": "code",
   "execution_count": 56,
   "id": "1a9870de",
   "metadata": {},
   "outputs": [
    {
     "data": {
      "text/html": [
       "<div>\n",
       "<style scoped>\n",
       "    .dataframe tbody tr th:only-of-type {\n",
       "        vertical-align: middle;\n",
       "    }\n",
       "\n",
       "    .dataframe tbody tr th {\n",
       "        vertical-align: top;\n",
       "    }\n",
       "\n",
       "    .dataframe thead th {\n",
       "        text-align: right;\n",
       "    }\n",
       "</style>\n",
       "<table border=\"1\" class=\"dataframe\">\n",
       "  <thead>\n",
       "    <tr style=\"text-align: right;\">\n",
       "      <th></th>\n",
       "      <th>Category_1</th>\n",
       "      <th>Category_2</th>\n",
       "      <th>Count</th>\n",
       "    </tr>\n",
       "  </thead>\n",
       "  <tbody>\n",
       "    <tr>\n",
       "      <th>0</th>\n",
       "      <td>1</td>\n",
       "      <td>5</td>\n",
       "      <td>692</td>\n",
       "    </tr>\n",
       "    <tr>\n",
       "      <th>1</th>\n",
       "      <td>1</td>\n",
       "      <td>6</td>\n",
       "      <td>692</td>\n",
       "    </tr>\n",
       "    <tr>\n",
       "      <th>2</th>\n",
       "      <td>1</td>\n",
       "      <td>8</td>\n",
       "      <td>692</td>\n",
       "    </tr>\n",
       "    <tr>\n",
       "      <th>3</th>\n",
       "      <td>5</td>\n",
       "      <td>6</td>\n",
       "      <td>692</td>\n",
       "    </tr>\n",
       "    <tr>\n",
       "      <th>4</th>\n",
       "      <td>5</td>\n",
       "      <td>8</td>\n",
       "      <td>692</td>\n",
       "    </tr>\n",
       "    <tr>\n",
       "      <th>5</th>\n",
       "      <td>6</td>\n",
       "      <td>8</td>\n",
       "      <td>692</td>\n",
       "    </tr>\n",
       "    <tr>\n",
       "      <th>6</th>\n",
       "      <td>1</td>\n",
       "      <td>2</td>\n",
       "      <td>690</td>\n",
       "    </tr>\n",
       "    <tr>\n",
       "      <th>7</th>\n",
       "      <td>2</td>\n",
       "      <td>5</td>\n",
       "      <td>690</td>\n",
       "    </tr>\n",
       "    <tr>\n",
       "      <th>8</th>\n",
       "      <td>2</td>\n",
       "      <td>6</td>\n",
       "      <td>690</td>\n",
       "    </tr>\n",
       "    <tr>\n",
       "      <th>9</th>\n",
       "      <td>2</td>\n",
       "      <td>8</td>\n",
       "      <td>690</td>\n",
       "    </tr>\n",
       "  </tbody>\n",
       "</table>\n",
       "</div>"
      ],
      "text/plain": [
       "   Category_1  Category_2  Count\n",
       "0           1           5    692\n",
       "1           1           6    692\n",
       "2           1           8    692\n",
       "3           5           6    692\n",
       "4           5           8    692\n",
       "5           6           8    692\n",
       "6           1           2    690\n",
       "7           2           5    690\n",
       "8           2           6    690\n",
       "9           2           8    690"
      ]
     },
     "execution_count": 56,
     "metadata": {},
     "output_type": "execute_result"
    }
   ],
   "source": [
    "# 상위 10개 조합을 DataFrame으로 변환\n",
    "top_pairs_df = pd.DataFrame(top_pairs, columns=['Product_Pair', 'Count'])\n",
    "top_pairs_df[['Category_1', 'Category_2']] = pd.DataFrame(top_pairs_df['Product_Pair'].tolist(), index=top_pairs_df.index)\n",
    "top_pairs_df = top_pairs_df[['Category_1', 'Category_2', 'Count']]\n",
    "top_pairs_df"
   ]
  },
  {
   "cell_type": "code",
   "execution_count": 57,
   "id": "24f6d9e1",
   "metadata": {},
   "outputs": [
    {
     "data": {
      "text/html": [
       "<div>\n",
       "<style scoped>\n",
       "    .dataframe tbody tr th:only-of-type {\n",
       "        vertical-align: middle;\n",
       "    }\n",
       "\n",
       "    .dataframe tbody tr th {\n",
       "        vertical-align: top;\n",
       "    }\n",
       "\n",
       "    .dataframe thead th {\n",
       "        text-align: right;\n",
       "    }\n",
       "</style>\n",
       "<table border=\"1\" class=\"dataframe\">\n",
       "  <thead>\n",
       "    <tr style=\"text-align: right;\">\n",
       "      <th></th>\n",
       "      <th>카테고리 조합</th>\n",
       "      <th>구매 횟수</th>\n",
       "    </tr>\n",
       "  </thead>\n",
       "  <tbody>\n",
       "    <tr>\n",
       "      <th>0</th>\n",
       "      <td>Product_Category 1 + Product_Category 5</td>\n",
       "      <td>692</td>\n",
       "    </tr>\n",
       "    <tr>\n",
       "      <th>1</th>\n",
       "      <td>Product_Category 1 + Product_Category 6</td>\n",
       "      <td>692</td>\n",
       "    </tr>\n",
       "    <tr>\n",
       "      <th>2</th>\n",
       "      <td>Product_Category 1 + Product_Category 8</td>\n",
       "      <td>692</td>\n",
       "    </tr>\n",
       "    <tr>\n",
       "      <th>3</th>\n",
       "      <td>Product_Category 5 + Product_Category 6</td>\n",
       "      <td>692</td>\n",
       "    </tr>\n",
       "    <tr>\n",
       "      <th>4</th>\n",
       "      <td>Product_Category 5 + Product_Category 8</td>\n",
       "      <td>692</td>\n",
       "    </tr>\n",
       "    <tr>\n",
       "      <th>5</th>\n",
       "      <td>Product_Category 6 + Product_Category 8</td>\n",
       "      <td>692</td>\n",
       "    </tr>\n",
       "    <tr>\n",
       "      <th>6</th>\n",
       "      <td>Product_Category 1 + Product_Category 2</td>\n",
       "      <td>690</td>\n",
       "    </tr>\n",
       "    <tr>\n",
       "      <th>7</th>\n",
       "      <td>Product_Category 2 + Product_Category 5</td>\n",
       "      <td>690</td>\n",
       "    </tr>\n",
       "    <tr>\n",
       "      <th>8</th>\n",
       "      <td>Product_Category 2 + Product_Category 6</td>\n",
       "      <td>690</td>\n",
       "    </tr>\n",
       "    <tr>\n",
       "      <th>9</th>\n",
       "      <td>Product_Category 2 + Product_Category 8</td>\n",
       "      <td>690</td>\n",
       "    </tr>\n",
       "  </tbody>\n",
       "</table>\n",
       "</div>"
      ],
      "text/plain": [
       "                                   카테고리 조합  구매 횟수\n",
       "0  Product_Category 1 + Product_Category 5    692\n",
       "1  Product_Category 1 + Product_Category 6    692\n",
       "2  Product_Category 1 + Product_Category 8    692\n",
       "3  Product_Category 5 + Product_Category 6    692\n",
       "4  Product_Category 5 + Product_Category 8    692\n",
       "5  Product_Category 6 + Product_Category 8    692\n",
       "6  Product_Category 1 + Product_Category 2    690\n",
       "7  Product_Category 2 + Product_Category 5    690\n",
       "8  Product_Category 2 + Product_Category 6    690\n",
       "9  Product_Category 2 + Product_Category 8    690"
      ]
     },
     "execution_count": 57,
     "metadata": {},
     "output_type": "execute_result"
    }
   ],
   "source": [
    "top_pairs_df['카테고리 조합'] = top_pairs_df.apply(\n",
    "    lambda row: f\"Product_Category {row['Category_1']} + Product_Category {row['Category_2']}\", axis=1\n",
    ")\n",
    "\n",
    "new_top_pairs_df = top_pairs_df[['카테고리 조합', 'Count']]\n",
    "new_top_pairs_df.columns = ['카테고리 조합', '구매 횟수']\n",
    "\n",
    "new_top_pairs_df"
   ]
  },
  {
   "cell_type": "markdown",
   "id": "1968142c",
   "metadata": {},
   "source": [
    "## 핵심 요약\n",
    "Product_Category 1, 5, 6, 8번 상품군은 서로 자주 함께 구매되는 경향을 보인다.\n",
    "이는 특정 고객층이 일정한 소비 패턴을 가지고 있으며 연관된 상품을 함께 구매하는 성향을 지닌다는 것을 의미한다.\n",
    "\n",
    "이러한 상품군 조합은 크로스셀 전략에 적합한 구조로 이를 활용하면 고객당 평균 구매 금액을 높이고 재구매를 유도할 수 있는 기반이 된다.\n",
    "\n"
   ]
  },
  {
   "cell_type": "markdown",
   "id": "d88ab077",
   "metadata": {},
   "source": [
    "# 마케팅 전략 제안\n",
    "1. 묶음 상품 기획   \n",
    "카테고리 1+5 / 5+8 / 1+8과 같은 조합을 기반으로 패키지 상품 또는 할인 전략을 제안한다.   \n",
    "상품을 다양하게 구매하는 고객에게는 선택형 패키지 추천 시스템을 도입하여 구매의 유연성을 높일 수 있다.   \n",
    "\n",
    "2. 고객 맞춤형 테마 구성   \n",
    "연령, 직업, 도시 등 고객 특성을 기반으로 라이프스타일 맞춤 테마 기획전을 구성할 수 있다.   \n",
    "예: 2030 직장인을 위한 직장인 라이프 세트나 1인 가구 대상의 혼라이프 추천템 등   \n",
    "\n",
    "3. 상품 추천 시스템 개선   \n",
    "상위 카테고리 조합 데이터를 기반으로 연관 상품 추천 알고리즘을 개선할 수 있다.   \n",
    "이를 통해 일반 고객에게도 자연스럽게 추가 상품을 노출시키며 구매 유도 흐름을 강화할 수 있다.   "
   ]
  },
  {
   "cell_type": "code",
   "execution_count": null,
   "id": "cc98d915",
   "metadata": {},
   "outputs": [],
   "source": []
  }
 ],
 "metadata": {
  "kernelspec": {
   "display_name": "hipython",
   "language": "python",
   "name": "python3"
  },
  "language_info": {
   "codemirror_mode": {
    "name": "ipython",
    "version": 3
   },
   "file_extension": ".py",
   "mimetype": "text/x-python",
   "name": "python",
   "nbconvert_exporter": "python",
   "pygments_lexer": "ipython3",
   "version": "3.12.9"
  }
 },
 "nbformat": 4,
 "nbformat_minor": 5
}
