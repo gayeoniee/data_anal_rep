{
 "cells": [
  {
   "cell_type": "code",
   "execution_count": 1,
   "id": "9b9f383b",
   "metadata": {},
   "outputs": [],
   "source": [
    "import numpy as np\n",
    "import pandas as pd\n",
    "import matplotlib.pyplot as plt\n",
    "import scipy.stats as stats\n",
    "%matplotlib inline\n",
    "plt.rc('figure', figsize=(10, 6))\n",
    "from matplotlib import rcParams\n",
    "rcParams['font.family'] = 'New Gulim'\n",
    "rcParams['font.size'] = 10\n",
    "rcParams['axes.unicode_minus'] = False"
   ]
  },
  {
   "cell_type": "markdown",
   "id": "c52ab5b3",
   "metadata": {},
   "source": [
    "# 확률의 계산"
   ]
  },
  {
   "cell_type": "markdown",
   "id": "0fdc97f1",
   "metadata": {},
   "source": [
    "## 동전 던지기"
   ]
  },
  {
   "cell_type": "code",
   "execution_count": 2,
   "id": "4ffc28bb",
   "metadata": {},
   "outputs": [
    {
     "data": {
      "text/plain": [
       "0.5"
      ]
     },
     "execution_count": 2,
     "metadata": {},
     "output_type": "execute_result"
    }
   ],
   "source": [
    "space = ['앞면', '뒷면']\n",
    "event = ['앞면']\n",
    "\n",
    "prob = lambda space, event : len(event) / len(space)\n",
    "prob(space, event)"
   ]
  },
  {
   "cell_type": "code",
   "execution_count": 3,
   "id": "215e98f9",
   "metadata": {},
   "outputs": [
    {
     "data": {
      "text/plain": [
       "0.16666666666666666"
      ]
     },
     "execution_count": 3,
     "metadata": {},
     "output_type": "execute_result"
    }
   ],
   "source": [
    "# 주사위 던지기\n",
    "# 한번 던져서 3이 나올 확률\n",
    "\n",
    "space = [1, 2, 3, 4, 5, 6]\n",
    "event = [3]\n",
    "\n",
    "prob = lambda space, event : len(event) / len(space)\n",
    "prob(space, event)"
   ]
  },
  {
   "cell_type": "markdown",
   "id": "19e884e9",
   "metadata": {},
   "source": [
    "# 확률의 덧셈"
   ]
  },
  {
   "cell_type": "markdown",
   "id": "4662353a",
   "metadata": {},
   "source": [
    "## 주사위에서 짝수이거나 4보다 큰 수가 나올 확률 - 덧셈"
   ]
  },
  {
   "cell_type": "code",
   "execution_count": 4,
   "id": "bd985945",
   "metadata": {},
   "outputs": [],
   "source": [
    "space = {1, 2, 3, 4, 5, 6}\n",
    "event_A = {2, 4, 6}\n",
    "event_B = {5, 6}"
   ]
  },
  {
   "cell_type": "code",
   "execution_count": 5,
   "id": "371972da",
   "metadata": {},
   "outputs": [
    {
     "data": {
      "text/plain": [
       "{2, 4, 5, 6}"
      ]
     },
     "execution_count": 5,
     "metadata": {},
     "output_type": "execute_result"
    }
   ],
   "source": [
    "합집합 = event_A | event_B\n",
    "합집합"
   ]
  },
  {
   "cell_type": "code",
   "execution_count": 6,
   "id": "3de81d14",
   "metadata": {},
   "outputs": [
    {
     "data": {
      "text/plain": [
       "0.6666666666666666"
      ]
     },
     "execution_count": 6,
     "metadata": {},
     "output_type": "execute_result"
    }
   ],
   "source": [
    "합집합의_개수 = len(합집합)\n",
    "전체경우의수 = len(space)\n",
    "\n",
    "확률_1 = 합집합의_개수 / 전체경우의수\n",
    "확률_1"
   ]
  },
  {
   "cell_type": "markdown",
   "id": "618640e4",
   "metadata": {},
   "source": [
    "\n",
    "## 2이하이거나 5이상인 눈이 나올 확률"
   ]
  },
  {
   "cell_type": "code",
   "execution_count": 7,
   "id": "7a472fd1",
   "metadata": {},
   "outputs": [],
   "source": [
    "space = {1, 2, 3, 4, 5, 6}\n",
    "event_A = {1, 2}\n",
    "event_B = {5, 6}"
   ]
  },
  {
   "cell_type": "code",
   "execution_count": 8,
   "id": "fbdaa9fc",
   "metadata": {},
   "outputs": [
    {
     "data": {
      "text/plain": [
       "{1, 2, 5, 6}"
      ]
     },
     "execution_count": 8,
     "metadata": {},
     "output_type": "execute_result"
    }
   ],
   "source": [
    "합집합2 = event_A | event_B\n",
    "합집합2"
   ]
  },
  {
   "cell_type": "code",
   "execution_count": 9,
   "id": "a56f12ec",
   "metadata": {},
   "outputs": [
    {
     "data": {
      "text/plain": [
       "0.6666666666666666"
      ]
     },
     "execution_count": 9,
     "metadata": {},
     "output_type": "execute_result"
    }
   ],
   "source": [
    "합집합의_개수2 = len(합집합2)\n",
    "전체경우의수 = len(space)\n",
    "\n",
    "확률_2 = 합집합의_개수2 / 전체경우의수\n",
    "확률_2"
   ]
  },
  {
   "cell_type": "markdown",
   "id": "3fd219a2",
   "metadata": {},
   "source": [
    "# 확률의 교집합"
   ]
  },
  {
   "cell_type": "markdown",
   "id": "eb14703a",
   "metadata": {},
   "source": [
    "주사위를 던져 짝수 & 2일 확률"
   ]
  },
  {
   "cell_type": "code",
   "execution_count": 10,
   "id": "d3c83639",
   "metadata": {},
   "outputs": [
    {
     "data": {
      "text/plain": [
       "{2}"
      ]
     },
     "execution_count": 10,
     "metadata": {},
     "output_type": "execute_result"
    }
   ],
   "source": [
    "sample_space = [1, 2, 3, 4, 5, 6]\n",
    "event_A = [2, 4, 6]\n",
    "event_B = [2]\n",
    "\n",
    "P_A = len(event_A) / len(sample_space)        # A 일 확률\n",
    "P_B = len(event_B) / len(sample_space)        # B 일 확률\n",
    "P_B_and_A_ele = set(event_A) & set(event_B)   # 교집합의 원소\n",
    "P_B_and_A_ele"
   ]
  },
  {
   "cell_type": "code",
   "execution_count": 11,
   "id": "ea201a49",
   "metadata": {},
   "outputs": [
    {
     "data": {
      "text/plain": [
       "0.16666666666666666"
      ]
     },
     "execution_count": 11,
     "metadata": {},
     "output_type": "execute_result"
    }
   ],
   "source": [
    "P_B_and_A = len(P_B_and_A_ele) / len(sample_space)  # 교집합이 나올 확률\n",
    "P_B_and_A"
   ]
  },
  {
   "cell_type": "code",
   "execution_count": 12,
   "id": "d0a2ebff",
   "metadata": {},
   "outputs": [
    {
     "data": {
      "text/plain": [
       "0.3333333333333333"
      ]
     },
     "execution_count": 12,
     "metadata": {},
     "output_type": "execute_result"
    }
   ],
   "source": [
    "# 조건부확률 : 짝수일 때 2가 나올 확률\n",
    "# P(B|A) = P{B_and_A} / P(A)\n",
    "\n",
    "P_B_given_A = P_B_and_A / P_A\n",
    "P_B_given_A"
   ]
  },
  {
   "cell_type": "markdown",
   "id": "a81053c5",
   "metadata": {},
   "source": [
    "# 우도와 확률값"
   ]
  },
  {
   "cell_type": "markdown",
   "id": "dc6b30a6",
   "metadata": {},
   "source": [
    "동전 10번 던지고, 8번 앞면이 나왔다.   \n",
    "우도의 계산"
   ]
  },
  {
   "cell_type": "code",
   "execution_count": 13,
   "id": "d81415af",
   "metadata": {},
   "outputs": [
    {
     "data": {
      "text/plain": [
       "(np.float64(0.04394531250000005), np.float64(0.30198988799999993))"
      ]
     },
     "execution_count": 13,
     "metadata": {},
     "output_type": "execute_result"
    }
   ],
   "source": [
    "n = 10\n",
    "k = 8  # 앞면의 횟수\n",
    "\n",
    "# 가설1 - 공정한 상태일 때\n",
    "p1 = 0.5  # 앞면이 나올 확률 - 공정할 경우\n",
    "from scipy.stats import binom\n",
    "p1_liklihood = binom.pmf(k, n, p1)  # 조건, 총사건, 확률\n",
    "\n",
    "p2 = 0.8\n",
    "p2_liklihood = binom.pmf(k, n, p2) \n",
    "\n",
    "p1_liklihood, p2_liklihood"
   ]
  },
  {
   "cell_type": "markdown",
   "id": "2da7aa02",
   "metadata": {},
   "source": [
    "가설1의 경우 : 앞면이 8번 나올 확률은 4.4%   \n",
    "가설1의 경우 : 아편이 8번 나올 확률은 30.2%   \n",
    "\n",
    "앞면 8번 나오는 관측값은 p=0.8인 모델이 더 잘 설명한다. -> 우도가 크다."
   ]
  },
  {
   "cell_type": "markdown",
   "id": "83d96654",
   "metadata": {},
   "source": [
    "# 기대값\n",
    "x의 확룰들의 평균"
   ]
  },
  {
   "cell_type": "code",
   "execution_count": 14,
   "id": "5d8de563",
   "metadata": {},
   "outputs": [
    {
     "name": "stdout",
     "output_type": "stream",
     "text": [
      "기대값 : 2.16667\n"
     ]
    }
   ],
   "source": [
    "x_values = [1, 2, 3]\n",
    "p_x = [1/6, 3/6, 2/6]\n",
    "\n",
    "exp_value = 0\n",
    "# 기대값\n",
    "for i in range(len(x_values)):\n",
    "    exp_value += x_values[i] * p_x[i]\n",
    "    \n",
    "print(f'기대값 : {exp_value:.5f}')"
   ]
  },
  {
   "cell_type": "code",
   "execution_count": 15,
   "id": "069c2081",
   "metadata": {},
   "outputs": [],
   "source": [
    "from scipy.stats import norm\n",
    "\n",
    "mu = 0\n",
    "sigma = 1\n",
    "\n",
    "x = np.linspace(-4, 4, 1000)\n",
    "y = norm.pdf(x, loc=mu, scale=sigma)"
   ]
  },
  {
   "cell_type": "code",
   "execution_count": 16,
   "id": "0ead3875",
   "metadata": {},
   "outputs": [
    {
     "data": {
      "image/png": "[encoded data removed]",
      "text/plain": [
       "<Figure size 1000x600 with 1 Axes>"
      ]
     },
     "metadata": {},
     "output_type": "display_data"
    }
   ],
   "source": [
    "plt.plot(x, y)\n",
    "plt.show()"
   ]
  },
  {
   "cell_type": "markdown",
   "id": "0740e08d",
   "metadata": {},
   "source": [
    "# 표집분포"
   ]
  },
  {
   "cell_type": "code",
   "execution_count": 17,
   "id": "800acf1b",
   "metadata": {},
   "outputs": [
    {
     "data": {
      "image/png": "[encoded data removed]",
      "text/plain": [
       "<Figure size 1000x600 with 1 Axes>"
      ]
     },
     "metadata": {},
     "output_type": "display_data"
    }
   ],
   "source": [
    "np.random.seed(0)\n",
    "X_pop = np.random.exponential(scale=10, size=10000)\n",
    "sample_mean = [np.mean(np.random.choice(X_pop, size=30)) for _ in range(10000)]\n",
    "\n",
    "plt.hist(sample_mean, bins=50, alpha = 0.6)\n",
    "plt.show()"
   ]
  },
  {
   "cell_type": "markdown",
   "id": "81571557",
   "metadata": {},
   "source": [
    "# z 점수"
   ]
  },
  {
   "cell_type": "code",
   "execution_count": 18,
   "id": "94da1a05",
   "metadata": {},
   "outputs": [
    {
     "data": {
      "text/plain": [
       "(1.0, 2.5)"
      ]
     },
     "execution_count": 18,
     "metadata": {},
     "output_type": "execute_result"
    }
   ],
   "source": [
    "mu = 100\n",
    "sigma = 10\n",
    "\n",
    "x1 = 110     # z 점수를 계산하려고 하는 원래 점수\n",
    "x2 = 125    \n",
    "\n",
    "# z점수 = 원점수 - 평균 / 표준편차\n",
    "z_x1 = (x1 - mu) / sigma\n",
    "z_x2 = (x2 - mu) / sigma\n",
    "\n",
    "z_x1, z_x2"
   ]
  },
  {
   "cell_type": "markdown",
   "id": "83762903",
   "metadata": {},
   "source": [
    "z_x1 = 0.8413 -> 0.5 -> 0.3413   \n",
    "z_x2 = 0.9938 -> 0.5 -> 0.4938\n",
    "\n",
    "0.4938 - 0.3413 = 0.1525  15%"
   ]
  },
  {
   "cell_type": "code",
   "execution_count": 19,
   "id": "43462782",
   "metadata": {},
   "outputs": [
    {
     "data": {
      "text/plain": [
       "np.float64(0.15244558860568092)"
      ]
     },
     "execution_count": 19,
     "metadata": {},
     "output_type": "execute_result"
    }
   ],
   "source": [
    "area_z_x1 = norm.cdf(z_x1) - norm.cdf(0)\n",
    "area_z_x2 = norm.cdf(z_x2) - norm.cdf(0)\n",
    "\n",
    "diff_area = area_z_x2 - area_z_x1\n",
    "diff_area"
   ]
  },
  {
   "cell_type": "code",
   "execution_count": 20,
   "id": "663ac815",
   "metadata": {},
   "outputs": [
    {
     "data": {
      "image/png": "[encoded data removed]",
      "text/plain": [
       "<Figure size 1000x600 with 1 Axes>"
      ]
     },
     "metadata": {},
     "output_type": "display_data"
    }
   ],
   "source": [
    "# 시각화\n",
    "x = np.linspace(mu - 4 * sigma, mu + 4 * sigma, 1000)\n",
    "y = norm.pdf(x, mu, sigma)\n",
    "plt.plot(x, y)\n",
    "plt.fill_between(x, y, where=(x >= 100) & (x <= 110), color='skyblue')\n",
    "plt.fill_between(x, y, where=(x > 110) & (x <= 125), color='lightgreen')\n",
    "plt.show()"
   ]
  },
  {
   "cell_type": "code",
   "execution_count": null,
   "id": "11ea787f",
   "metadata": {},
   "outputs": [],
   "source": []
  }
 ],
 "metadata": {
  "kernelspec": {
   "display_name": "hipython",
   "language": "python",
   "name": "python3"
  },
  "language_info": {
   "codemirror_mode": {
    "name": "ipython",
    "version": 3
   },
   "file_extension": ".py",
   "mimetype": "text/x-python",
   "name": "python",
   "nbconvert_exporter": "python",
   "pygments_lexer": "ipython3",
   "version": "3.12.9"
  }
 },
 "nbformat": 4,
 "nbformat_minor": 5
}
