{
 "cells": [
  {
   "cell_type": "markdown",
   "id": "eaf258ab",
   "metadata": {},
   "source": [
    "# 넘파이의 사용\n",
    "\n",
    "1. 데이터 분석 프로젝트: 수치형 데이터의 요약, 통계, 시각화\n",
    "2. 이미지 처리 프로젝트: 이미지 분석\n",
    "3. 게임, 시뮬레이션 프로그램: 수치 시뮬레이션 등을 구현\n",
    "4. 머신러닝 / 딥러닝 모델 프로젝트: 금융데이터, 의료데이터, 실험데이터, 센서데이터"
   ]
  },
  {
   "cell_type": "code",
   "execution_count": 4,
   "id": "4130bc67",
   "metadata": {},
   "outputs": [
    {
     "data": {
      "text/plain": [
       "[[120, 135, 150, 145], [100, 110, 140, 130], [90, 100, 95, 105]]"
      ]
     },
     "execution_count": 4,
     "metadata": {},
     "output_type": "execute_result"
    }
   ],
   "source": [
    "import numpy as np\n",
    "\n",
    "data = [\n",
    "    [120, 135, 150, 145],  # 제품A\n",
    "    [100, 110, 140, 130],  # 제품B\n",
    "    [90, 100, 95, 105] \n",
    "]\n",
    "\n",
    "data"
   ]
  },
  {
   "cell_type": "code",
   "execution_count": 8,
   "id": "d03f147a",
   "metadata": {},
   "outputs": [
    {
     "data": {
      "text/plain": [
       "array([550, 480, 390])"
      ]
     },
     "execution_count": 8,
     "metadata": {},
     "output_type": "execute_result"
    }
   ],
   "source": [
    "sales_data = np.array(data)\n",
    "np.sum(sales_data, axis=1)   # 총 판매량"
   ]
  },
  {
   "cell_type": "code",
   "execution_count": 9,
   "id": "22521c48",
   "metadata": {},
   "outputs": [
    {
     "data": {
      "text/plain": [
       "array([7650, 8500, 9575, 9425])"
      ]
     },
     "execution_count": 9,
     "metadata": {},
     "output_type": "execute_result"
    }
   ],
   "source": [
    "profit_per_init = np.array([20, 30, 25])\n",
    "total_sales = np.dot(profit_per_init, sales_data)\n",
    "total_sales  # 총 판매금액"
   ]
  },
  {
   "cell_type": "markdown",
   "id": "45cdd174",
   "metadata": {},
   "source": [
    "# 이미지 처리"
   ]
  },
  {
   "cell_type": "code",
   "execution_count": 19,
   "id": "487a767f",
   "metadata": {},
   "outputs": [
    {
     "ename": "OSError",
     "evalue": "cannot write mode RGBA as JPEG",
     "output_type": "error",
     "traceback": [
      "\u001b[31m---------------------------------------------------------------------------\u001b[39m",
      "\u001b[31mKeyError\u001b[39m                                  Traceback (most recent call last)",
      "\u001b[36mFile \u001b[39m\u001b[32mc:\\Users\\Admin\\miniconda3\\envs\\hipython\\Lib\\site-packages\\PIL\\JpegImagePlugin.py:665\u001b[39m, in \u001b[36m_save\u001b[39m\u001b[34m(im, fp, filename)\u001b[39m\n\u001b[32m    664\u001b[39m \u001b[38;5;28;01mtry\u001b[39;00m:\n\u001b[32m--> \u001b[39m\u001b[32m665\u001b[39m     rawmode = RAWMODE[im.mode]\n\u001b[32m    666\u001b[39m \u001b[38;5;28;01mexcept\u001b[39;00m \u001b[38;5;167;01mKeyError\u001b[39;00m \u001b[38;5;28;01mas\u001b[39;00m e:\n",
      "\u001b[31mKeyError\u001b[39m: 'RGBA'",
      "\nThe above exception was the direct cause of the following exception:\n",
      "\u001b[31mOSError\u001b[39m                                   Traceback (most recent call last)",
      "\u001b[36mCell\u001b[39m\u001b[36m \u001b[39m\u001b[32mIn[19]\u001b[39m\u001b[32m, line 6\u001b[39m\n\u001b[32m      3\u001b[39m img_ary = np.array(img)         \u001b[38;5;66;03m# array에 넣어줌\u001b[39;00m\n\u001b[32m      4\u001b[39m new_img = np.clip(img_ary - \u001b[32m10\u001b[39m, \u001b[32m0\u001b[39m, \u001b[32m255\u001b[39m).astype(np.uint8)   \u001b[38;5;66;03m# 맘대로 바꿔줌\u001b[39;00m\n\u001b[32m----> \u001b[39m\u001b[32m6\u001b[39m Image.fromarray(new_img).save(\u001b[33m'\u001b[39m\u001b[33mnew_sample.jpg\u001b[39m\u001b[33m'\u001b[39m)\n",
      "\u001b[36mFile \u001b[39m\u001b[32mc:\\Users\\Admin\\miniconda3\\envs\\hipython\\Lib\\site-packages\\PIL\\Image.py:2596\u001b[39m, in \u001b[36mImage.save\u001b[39m\u001b[34m(self, fp, format, **params)\u001b[39m\n\u001b[32m   2593\u001b[39m     fp = cast(IO[\u001b[38;5;28mbytes\u001b[39m], fp)\n\u001b[32m   2595\u001b[39m \u001b[38;5;28;01mtry\u001b[39;00m:\n\u001b[32m-> \u001b[39m\u001b[32m2596\u001b[39m     save_handler(\u001b[38;5;28mself\u001b[39m, fp, filename)\n\u001b[32m   2597\u001b[39m \u001b[38;5;28;01mexcept\u001b[39;00m \u001b[38;5;167;01mException\u001b[39;00m:\n\u001b[32m   2598\u001b[39m     \u001b[38;5;28;01mif\u001b[39;00m open_fp:\n",
      "\u001b[36mFile \u001b[39m\u001b[32mc:\\Users\\Admin\\miniconda3\\envs\\hipython\\Lib\\site-packages\\PIL\\JpegImagePlugin.py:668\u001b[39m, in \u001b[36m_save\u001b[39m\u001b[34m(im, fp, filename)\u001b[39m\n\u001b[32m    666\u001b[39m \u001b[38;5;28;01mexcept\u001b[39;00m \u001b[38;5;167;01mKeyError\u001b[39;00m \u001b[38;5;28;01mas\u001b[39;00m e:\n\u001b[32m    667\u001b[39m     msg = \u001b[33mf\u001b[39m\u001b[33m\"\u001b[39m\u001b[33mcannot write mode \u001b[39m\u001b[38;5;132;01m{\u001b[39;00mim.mode\u001b[38;5;132;01m}\u001b[39;00m\u001b[33m as JPEG\u001b[39m\u001b[33m\"\u001b[39m\n\u001b[32m--> \u001b[39m\u001b[32m668\u001b[39m     \u001b[38;5;28;01mraise\u001b[39;00m \u001b[38;5;167;01mOSError\u001b[39;00m(msg) \u001b[38;5;28;01mfrom\u001b[39;00m\u001b[38;5;250m \u001b[39m\u001b[34;01me\u001b[39;00m\n\u001b[32m    670\u001b[39m info = im.encoderinfo\n\u001b[32m    672\u001b[39m dpi = [\u001b[38;5;28mround\u001b[39m(x) \u001b[38;5;28;01mfor\u001b[39;00m x \u001b[38;5;129;01min\u001b[39;00m info.get(\u001b[33m\"\u001b[39m\u001b[33mdpi\u001b[39m\u001b[33m\"\u001b[39m, (\u001b[32m0\u001b[39m, \u001b[32m0\u001b[39m))]\n",
      "\u001b[31mOSError\u001b[39m: cannot write mode RGBA as JPEG"
     ]
    }
   ],
   "source": [
    "from PIL import Image\n",
    "img = Image.open('sample.jpg')  # 이미지 데이터 읽기 (컬러별 픽셀값)\n",
    "img_ary = np.array(img)         # array에 넣어줌\n",
    "new_img = np.clip(img_ary - 10, 0, 255).astype(np.uint8)   # 맘대로 바꿔줌\n",
    "\n",
    "Image.fromarray(new_img).save('new_sample.jpg')  # array 데이터를 이미지로"
   ]
  },
  {
   "cell_type": "code",
   "execution_count": null,
   "id": "185afb3a",
   "metadata": {},
   "outputs": [],
   "source": []
  }
 ],
 "metadata": {
  "kernelspec": {
   "display_name": "hipython",
   "language": "python",
   "name": "python3"
  },
  "language_info": {
   "codemirror_mode": {
    "name": "ipython",
    "version": 3
   },
   "file_extension": ".py",
   "mimetype": "text/x-python",
   "name": "python",
   "nbconvert_exporter": "python",
   "pygments_lexer": "ipython3",
   "version": "3.12.9"
  }
 },
 "nbformat": 4,
 "nbformat_minor": 5
}
